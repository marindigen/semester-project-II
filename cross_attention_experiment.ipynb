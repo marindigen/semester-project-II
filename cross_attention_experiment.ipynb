{
 "cells": [
  {
   "cell_type": "code",
   "execution_count": 1,
   "metadata": {},
   "outputs": [],
   "source": [
    "import torch\n",
    "import torch.nn as nn\n",
    "import torch.optim as optim\n",
    "import torch.utils.data as data\n",
    "import math\n",
    "import copy\n",
    "import numpy as np\n",
    "import tqdm\n",
    "import random\n",
    "import torch.nn.functional as F\n",
    "import matplotlib.pyplot as plt\n",
    "from mpl_toolkits.mplot3d import Axes3D\n",
    "import wandb\n",
    "import seaborn as sns\n",
    "\n",
    "from utils import *\n",
    "from train import *\n",
    "\n",
    "# for tensorboard\n",
    "from torch.utils.tensorboard import SummaryWriter\n",
    "#writer = SummaryWriter()"
   ]
  },
  {
   "cell_type": "markdown",
   "metadata": {},
   "source": [
    "# Using embedding\n",
    "In this experiment, we sample data not only from uniform distribution but from variety of distributions. We then use this data for encoder and feed its output throught cross-attention mechanism to the decoder. The decoder takes the sequence with missing tokens and tries to fill in the gaps.\n",
    "\n",
    "### Architecture\n",
    "- We use multihead attention for the encoder and vanilla attention for the decoder.\n",
    "- In the encoder, before splitting heads I \"merge\" the 5 sequences through linear layer."
   ]
  },
  {
   "cell_type": "code",
   "execution_count": 2,
   "metadata": {},
   "outputs": [
    {
     "name": "stdout",
     "output_type": "stream",
     "text": [
      "/Users/mariayuffa/semester-project-1\n"
     ]
    }
   ],
   "source": [
    "import os\n",
    "print(os.getcwd())"
   ]
  },
  {
   "cell_type": "code",
   "execution_count": 3,
   "metadata": {},
   "outputs": [
    {
     "data": {
      "text/plain": [
       "'\\n# Sequences for decoder\\nfinal_chains_train = np.load(\\'data/final_chains_T=1_num_iters=20_J_experiment_train.npy\\')\\nchains_train = final_chains_train.copy()\\nchains_train[final_chains_train==-1] = 0\\nchains_train[final_chains_train==1] = 1\\n#dec_samples_train = torch.tensor(chains_train, dtype=torch.long)\\nprint(\"Loaded train sequences of proteins sampled from Boltzmann distribution:\", final_chains_train.shape)\\n\\nfinal_chains_test = np.load(\\'data/final_chains_T=1_num_iters=20_J_experiment_test.npy\\')\\nchains_test = final_chains_test.copy()\\nchains_test[final_chains_test==-1] = 0\\nchains_test[final_chains_test==1] = 1\\n#dec_samples_test = torch.tensor(chains_test, dtype=torch.long)\\nprint(\"Loaded test sequences of proteins sampled from Boltzmann distribution:\", final_chains_test.shape)\\n\\n\\n# Sequences for encoder\\nfinal_chains_encoder_train = np.zeros((1000,5,200))\\nfinal_chains_encoder_test = np.zeros((1000,5,200))\\nfor i in range(1,6):\\n    final_chains_encoder_train[:,i-1,:] = np.load(f\\'data/2_spin/cluster_ising/final_chains_T=1_num_iters=5_J_experiment_train_{i}.npy\\')\\n    final_chains_encoder_test[:,i-1,:] = np.load(f\\'data/2_spin/cluster_ising/final_chains_T=1_num_iters=5_J_experiment_test_{i}.npy\\') \\n\\nprint(\"Loaded train sequences of proteins for encoder distribution:\", final_chains_encoder_train.shape)\\nprint(\"Loaded test sequences of proteins for encoder distribution:\", final_chains_encoder_test.shape)\\n\\nsamples_train = final_chains_encoder_train.copy() \\nsamples_train[final_chains_encoder_train==-1] = 0\\nsamples_train[final_chains_encoder_train==1] = 1\\nsamples_train = samples_train.reshape((5000,200))\\n#enc_samples_train = torch.tensor(samples_train, dtype=torch.long)\\n\\nsamples_test = final_chains_encoder_test.copy()\\nsamples_test[final_chains_encoder_test==-1] = 0\\nsamples_test[final_chains_encoder_test==1] = 1\\nsamples_test = samples_test.reshape((5000,200))\\n#print(samples_test.shape)\\n#enc_samples_test = torch.tensor(samples_test, dtype=torch.long)\\n\\nJ_large = np.load(\"data/contact_mat/J_large.npy\")\\ndec_samples = np.load(\"data/train_large.npy\")\\ndec_samples = (dec_samples+1)/2\\nprint(dec_samples.shape)\\n#t = np.load(\"data/2_spin/cluster_ising/final_chains_T=1_num_iters=5_J_experiment_train_5.npy\")\\n#sns.heatmap(t, cmap=\"viridis\")\\n'"
      ]
     },
     "execution_count": 3,
     "metadata": {},
     "output_type": "execute_result"
    }
   ],
   "source": [
    "'''\n",
    "# Sequences for decoder\n",
    "final_chains_train = np.load('data/final_chains_T=1_num_iters=20_J_experiment_train.npy')\n",
    "chains_train = final_chains_train.copy()\n",
    "chains_train[final_chains_train==-1] = 0\n",
    "chains_train[final_chains_train==1] = 1\n",
    "#dec_samples_train = torch.tensor(chains_train, dtype=torch.long)\n",
    "print(\"Loaded train sequences of proteins sampled from Boltzmann distribution:\", final_chains_train.shape)\n",
    "\n",
    "final_chains_test = np.load('data/final_chains_T=1_num_iters=20_J_experiment_test.npy')\n",
    "chains_test = final_chains_test.copy()\n",
    "chains_test[final_chains_test==-1] = 0\n",
    "chains_test[final_chains_test==1] = 1\n",
    "#dec_samples_test = torch.tensor(chains_test, dtype=torch.long)\n",
    "print(\"Loaded test sequences of proteins sampled from Boltzmann distribution:\", final_chains_test.shape)\n",
    "\n",
    "\n",
    "# Sequences for encoder\n",
    "final_chains_encoder_train = np.zeros((1000,5,200))\n",
    "final_chains_encoder_test = np.zeros((1000,5,200))\n",
    "for i in range(1,6):\n",
    "    final_chains_encoder_train[:,i-1,:] = np.load(f'data/2_spin/cluster_ising/final_chains_T=1_num_iters=5_J_experiment_train_{i}.npy')\n",
    "    final_chains_encoder_test[:,i-1,:] = np.load(f'data/2_spin/cluster_ising/final_chains_T=1_num_iters=5_J_experiment_test_{i}.npy') \n",
    "\n",
    "print(\"Loaded train sequences of proteins for encoder distribution:\", final_chains_encoder_train.shape)\n",
    "print(\"Loaded test sequences of proteins for encoder distribution:\", final_chains_encoder_test.shape)\n",
    "\n",
    "samples_train = final_chains_encoder_train.copy() \n",
    "samples_train[final_chains_encoder_train==-1] = 0\n",
    "samples_train[final_chains_encoder_train==1] = 1\n",
    "samples_train = samples_train.reshape((5000,200))\n",
    "#enc_samples_train = torch.tensor(samples_train, dtype=torch.long)\n",
    "\n",
    "samples_test = final_chains_encoder_test.copy()\n",
    "samples_test[final_chains_encoder_test==-1] = 0\n",
    "samples_test[final_chains_encoder_test==1] = 1\n",
    "samples_test = samples_test.reshape((5000,200))\n",
    "#print(samples_test.shape)\n",
    "#enc_samples_test = torch.tensor(samples_test, dtype=torch.long)\n",
    "\n",
    "J_large = np.load(\"data/contact_mat/J_large.npy\")\n",
    "dec_samples = np.load(\"data/train_large.npy\")\n",
    "dec_samples = (dec_samples+1)/2\n",
    "print(dec_samples.shape)\n",
    "#t = np.load(\"data/2_spin/cluster_ising/final_chains_T=1_num_iters=5_J_experiment_train_5.npy\")\n",
    "#sns.heatmap(t, cmap=\"viridis\")\n",
    "'''\n"
   ]
  },
  {
   "cell_type": "code",
   "execution_count": 4,
   "metadata": {},
   "outputs": [
    {
     "name": "stdout",
     "output_type": "stream",
     "text": [
      "Loaded train encoder sequences: (50000, 200)\n",
      "Loaded train decoder sequences: (10000, 200)\n"
     ]
    },
    {
     "data": {
      "text/plain": [
       "'\\nsamples_train = np.load(\"data/data_enc_example_new.npy\")\\n#add_true = np.load(\"data/data_enc_example_new_add.npy\")\\n#add_true = add_true.reshape(1, add_true.shape[0], add_true.shape[1])\\n#samples_train = np.concatenate((samples_train,add_true), axis=0)\\n\\nsamples_train = samples_train.reshape(samples_train.shape[0]*samples_train.shape[1], samples_train.shape[-1])\\nsamples_train = (samples_train+1)/2\\n\\nchains_train = np.load(\"data/train_example_new.npy\")\\nchains_train = (chains_train+1)/2\\n\\nJ = np.load(\"data/contact_mat/J_example_new.npy\")\\n\\nprint(\"Loaded train encoder sequences:\", samples_train.shape)\\nprint(\"Loaded train decoder sequences:\", chains_train.shape)\\n'"
      ]
     },
     "execution_count": 4,
     "metadata": {},
     "output_type": "execute_result"
    }
   ],
   "source": [
    "\n",
    "samples_train = np.load(\"data/data_enc_example_big.npy\")\n",
    "#add_true = np.load(\"data/data_enc_example_new_add.npy\")\n",
    "#add_true = add_true.reshape(1, add_true.shape[0], add_true.shape[1])\n",
    "#samples_train = np.concatenate((samples_train,add_true), axis=0)\n",
    "\n",
    "samples_train = samples_train.reshape(samples_train.shape[0]*samples_train.shape[1], samples_train.shape[-1])\n",
    "samples_train = (samples_train+1)/2\n",
    "\n",
    "chains_train = np.load(\"data/data_dec_example_big.npy\")\n",
    "chains_train = (chains_train+1)/2\n",
    "\n",
    "J = np.load(\"data/contact_mat/J_enc_big.npy\")\n",
    "\n",
    "print(\"Loaded train encoder sequences:\", samples_train.shape)\n",
    "print(\"Loaded train decoder sequences:\", chains_train.shape)\n",
    "'''\n",
    "samples_train = np.load(\"data/data_enc_example_new.npy\")\n",
    "#add_true = np.load(\"data/data_enc_example_new_add.npy\")\n",
    "#add_true = add_true.reshape(1, add_true.shape[0], add_true.shape[1])\n",
    "#samples_train = np.concatenate((samples_train,add_true), axis=0)\n",
    "\n",
    "samples_train = samples_train.reshape(samples_train.shape[0]*samples_train.shape[1], samples_train.shape[-1])\n",
    "samples_train = (samples_train+1)/2\n",
    "\n",
    "chains_train = np.load(\"data/train_example_new.npy\")\n",
    "chains_train = (chains_train+1)/2\n",
    "\n",
    "J = np.load(\"data/contact_mat/J_example_new.npy\")\n",
    "\n",
    "print(\"Loaded train encoder sequences:\", samples_train.shape)\n",
    "print(\"Loaded train decoder sequences:\", chains_train.shape)\n",
    "'''\n"
   ]
  },
  {
   "cell_type": "code",
   "execution_count": 5,
   "metadata": {},
   "outputs": [],
   "source": [
    "enc_train_loader = create_dataloaders(samples_train, batch_size=160, flag_float=False)\n",
    "dec_train_loader = create_dataloaders(chains_train, batch_size=32, flag_float=False)\n"
   ]
  },
  {
   "cell_type": "code",
   "execution_count": 6,
   "metadata": {},
   "outputs": [
    {
     "data": {
      "text/plain": [
       "'\\n# Sequences for decoder\\nfinal_chains_train = np.load(\\'data/final_chains_T=1_num_iters=20_J_experiment_train.npy\\')\\nchains_train = final_chains_train.copy()\\nchains_train[final_chains_train==-1] = 1\\nchains_train[final_chains_train==1] = 3\\ntensor_chains_train = torch.tensor(chains_train, dtype=torch.long)\\nprint(\"Loaded train sequences of proteins sampled from Boltzmann distribution:\", final_chains_train.shape)\\n\\nfinal_chains_test = np.load(\\'data/final_chains_T=1_num_iters=20_J_experiment_test.npy\\')\\nchains_test = final_chains_test.copy()\\nchains_test[final_chains_test==-1] = 1 \\nchains_test[final_chains_test==1] = 3 \\ntensor_chains_test = torch.tensor(chains_test, dtype=torch.long)\\nprint(\"Loaded test sequences of proteins sampled from Boltzmann distribution:\", final_chains_test.shape)\\n\\n\\n# Sequences for encoder\\nk = 0\\nfinal_chains_encoder_train = np.zeros((1000,5,200))\\nfinal_chains_encoder_train[:,0,:] = np.load(\\'data/2_spin/final_chains_T=1_num_iters=400_J=10_test.npy\\') \\nfinal_chains_encoder_test = np.zeros((1000,5,200))\\nfinal_chains_encoder_test[:,0,:] = np.load(\\'data/2_spin/final_chains_T=1_num_iters=400_J=10_test.npy\\') \\nfor i in range(20,100,20):\\n    k+=1\\n    final_chains_encoder_train[:,k,:] = np.load(\\'data/2_spin/final_chains_T=1_num_iters=400_J=\\'+str(i)+\\'_train.npy\\')\\n    final_chains_encoder_test[:,k,:] = np.load(\\'data/2_spin/final_chains_T=1_num_iters=400_J=\\'+str(i)+\\'_test.npy\\') \\n\\nprint(\"Loaded train sequences of proteins for encoder distribution:\", final_chains_encoder_train.shape)\\nprint(\"Loaded test sequences of proteins for encoder distribution:\", final_chains_encoder_test.shape)\\n\\nsamples_train = final_chains_encoder_train.copy() \\nsamples_train[final_chains_encoder_train==-1] = 1\\nsamples_train[final_chains_encoder_train==1] = 3\\ntensor_samples_train = torch.tensor(samples_train, dtype=torch.long)\\n\\nsamples_test = final_chains_encoder_test.copy()\\nsamples_test[final_chains_encoder_test==-1] = 1\\nsamples_test[final_chains_encoder_test==1] = 3\\ntensor_samples_test = torch.tensor(samples_test, dtype=torch.long)\\n'"
      ]
     },
     "execution_count": 6,
     "metadata": {},
     "output_type": "execute_result"
    }
   ],
   "source": [
    "'''\n",
    "# Sequences for decoder\n",
    "final_chains_train = np.load('data/final_chains_T=1_num_iters=20_J_experiment_train.npy')\n",
    "chains_train = final_chains_train.copy()\n",
    "chains_train[final_chains_train==-1] = 1\n",
    "chains_train[final_chains_train==1] = 3\n",
    "tensor_chains_train = torch.tensor(chains_train, dtype=torch.long)\n",
    "print(\"Loaded train sequences of proteins sampled from Boltzmann distribution:\", final_chains_train.shape)\n",
    "\n",
    "final_chains_test = np.load('data/final_chains_T=1_num_iters=20_J_experiment_test.npy')\n",
    "chains_test = final_chains_test.copy()\n",
    "chains_test[final_chains_test==-1] = 1 \n",
    "chains_test[final_chains_test==1] = 3 \n",
    "tensor_chains_test = torch.tensor(chains_test, dtype=torch.long)\n",
    "print(\"Loaded test sequences of proteins sampled from Boltzmann distribution:\", final_chains_test.shape)\n",
    "\n",
    "\n",
    "# Sequences for encoder\n",
    "k = 0\n",
    "final_chains_encoder_train = np.zeros((1000,5,200))\n",
    "final_chains_encoder_train[:,0,:] = np.load('data/2_spin/final_chains_T=1_num_iters=400_J=10_test.npy') \n",
    "final_chains_encoder_test = np.zeros((1000,5,200))\n",
    "final_chains_encoder_test[:,0,:] = np.load('data/2_spin/final_chains_T=1_num_iters=400_J=10_test.npy') \n",
    "for i in range(20,100,20):\n",
    "    k+=1\n",
    "    final_chains_encoder_train[:,k,:] = np.load('data/2_spin/final_chains_T=1_num_iters=400_J='+str(i)+'_train.npy')\n",
    "    final_chains_encoder_test[:,k,:] = np.load('data/2_spin/final_chains_T=1_num_iters=400_J='+str(i)+'_test.npy') \n",
    "\n",
    "print(\"Loaded train sequences of proteins for encoder distribution:\", final_chains_encoder_train.shape)\n",
    "print(\"Loaded test sequences of proteins for encoder distribution:\", final_chains_encoder_test.shape)\n",
    "\n",
    "samples_train = final_chains_encoder_train.copy() \n",
    "samples_train[final_chains_encoder_train==-1] = 1\n",
    "samples_train[final_chains_encoder_train==1] = 3\n",
    "tensor_samples_train = torch.tensor(samples_train, dtype=torch.long)\n",
    "\n",
    "samples_test = final_chains_encoder_test.copy()\n",
    "samples_test[final_chains_encoder_test==-1] = 1\n",
    "samples_test[final_chains_encoder_test==1] = 3\n",
    "tensor_samples_test = torch.tensor(samples_test, dtype=torch.long)\n",
    "'''"
   ]
  },
  {
   "cell_type": "code",
   "execution_count": 7,
   "metadata": {},
   "outputs": [],
   "source": [
    "import torch\n",
    "import torch.nn as nn\n",
    "import torch.optim as optim\n",
    "import torch.utils.data as data\n",
    "import math\n",
    "import copy\n",
    "import numpy as np\n",
    "import tqdm\n",
    "import random\n",
    "import torch.nn.functional as F\n",
    "from torch.utils.data import DataLoader, Dataset\n",
    "from utils import *\n",
    "\n",
    "############################################### Transformer Model ################################################\n",
    "class MultiHeadAttention(nn.Module):\n",
    "    def __init__(self, embed_dim, num_heads):\n",
    "        super(MultiHeadAttention, self).__init__()\n",
    "        assert embed_dim % num_heads == 0, \"d_model must be divisible by num_heads\"\n",
    "        \n",
    "        self.d_model = embed_dim\n",
    "        self.num_heads = num_heads\n",
    "        self.d_k = embed_dim // num_heads\n",
    "        \n",
    "        self.W_q = nn.Linear(embed_dim, embed_dim) # Linear layer for query \n",
    "        self.W_k = nn.Linear(embed_dim, embed_dim)\n",
    "        self.W_v = nn.Linear(embed_dim, embed_dim)\n",
    "        self.W_o = nn.Linear(embed_dim, embed_dim) # Output layer to ensure that dimensionality matches the model's expected dimensionality\n",
    "        \n",
    "        self.combine_heads = nn.Linear(num_heads, 1)\n",
    "\n",
    "    def scaled_dot_product_attention(self, Q, K, V, mask=None):\n",
    "        attn_scores = torch.matmul(Q, K.transpose(-2, -1)) / math.sqrt(self.d_k)\n",
    "        if mask is not None:\n",
    "            attn_scores = attn_scores.masked_fill(mask == 0, -1e9)\n",
    "        attn_probs = torch.softmax(attn_scores, dim=-1)\n",
    "        output = torch.matmul(attn_probs, V)\n",
    "        return output\n",
    "        \n",
    "    def split_heads(self, x):\n",
    "        batch_size, seq_length, embed_dim = x.size()\n",
    "        return x.view(batch_size, seq_length, self.num_heads, self.d_k).transpose(1, 2)\n",
    "     \n",
    "    def combine_heads(self, x):\n",
    "        batch_size, _, seq_length, d_k = x.size()\n",
    "        return x.transpose(1, 2).contiguous().view(batch_size,seq_length, self.d_model)\n",
    "        \n",
    "    def forward(self, Q, K, V, mask=None):\n",
    "        #print(\"shape of Q before splitting heads:\", Q.shape)\n",
    "        Q = self.split_heads(self.W_q(Q))\n",
    "        K = self.split_heads(self.W_k(K))\n",
    "        V = self.split_heads(self.W_v(V))\n",
    "        #print(\"shape of Q after splitting heads:\", Q.shape)\n",
    "        \n",
    "        attn_output = self.scaled_dot_product_attention(Q, K, V, mask)\n",
    "        #print(\" before W_o:\", self.combine_heads(attn_output.permute(1,2,0)).squeeze(-1).shape)\n",
    "        output = self.W_o(self.combine_heads(attn_output))\n",
    "        return output\n",
    "    \n",
    "class VanillaAttention(nn.Module):\n",
    "    def __init__(self, embed_dim, a, max_seq_length, num_spins=3, dropout_rate=0.0):\n",
    "        super(VanillaAttention, self).__init__()\n",
    "        self.word_embeddings = nn.Linear(num_spins, embed_dim)\n",
    "        self.position_embeddings = nn.Embedding(max_seq_length, embed_dim)\n",
    "        self.a = a  # parameter controlling how important positions are\n",
    "        self.value_weight = nn.Linear(embed_dim, embed_dim)\n",
    "        self.query_weight = nn.Linear(embed_dim, embed_dim)\n",
    "        self.key_weight = nn.Linear(embed_dim, embed_dim)\n",
    "        self.fc1 = nn.Linear(embed_dim, embed_dim)  # output layer\n",
    "        self.fc2 = nn.Linear(embed_dim, embed_dim)  # output layer\n",
    "        self.dropout = nn.Dropout(dropout_rate)\n",
    "        self.scale = math.sqrt(embed_dim)\n",
    "\n",
    "    def forward(self, s, enc_output):\n",
    "        # Vanilla attention has the same architecture as the one in simple transformer\n",
    "\n",
    "        batch_size_decoder = s.shape[0]\n",
    "        batch_size_encoder = enc_output.shape[0]\n",
    "        if batch_size_decoder != batch_size_encoder:\n",
    "            s = s.repeat(batch_size_encoder // batch_size_decoder, 1, 1)\n",
    "\n",
    "        query = self.query_weight(s)\n",
    "        key = self.key_weight(enc_output)\n",
    "        values = self.value_weight(enc_output)\n",
    "        scores = torch.matmul(query, key.transpose(-2, -1)) / self.scale # Transpose last two dimensions for matrix multiplication\n",
    "        attn_weights = torch.softmax(scores, dim=-1)  # Apply softmax to scores to get probabilities\n",
    "\n",
    "        # Apply attention scores to values\n",
    "        output= torch.matmul(attn_weights, values)\n",
    "        if batch_size_decoder != batch_size_encoder:\n",
    "            output = output.view(batch_size_decoder, batch_size_encoder // batch_size_decoder, output.size(-2), output.size(-1)).mean(dim=1)\n",
    "\n",
    "        output = self.fc2(torch.relu(self.fc1(self.dropout(output)))) # should have size (20,3)\n",
    "        return output, attn_weights\n",
    "    \n",
    "class PositionWiseFeedForward(nn.Module):\n",
    "    def __init__(self, d_model, d_ff):\n",
    "        super(PositionWiseFeedForward, self).__init__()\n",
    "        self.fc1 = nn.Linear(d_model, d_ff)\n",
    "        self.fc2 = nn.Linear(d_ff, d_model)\n",
    "        self.relu = nn.ReLU()\n",
    "\n",
    "    def forward(self, x):\n",
    "        return self.fc2(self.relu(self.fc1(x)))\n",
    "    \n",
    "class PositionalEncoding(nn.Module):\n",
    "    def __init__(self, d_model, max_seq_length):\n",
    "        super(PositionalEncoding, self).__init__()\n",
    "        \n",
    "        pe = torch.zeros(max_seq_length, d_model)\n",
    "        position = torch.arange(0, max_seq_length, dtype=torch.float).unsqueeze(1)\n",
    "        div_term = torch.exp(torch.arange(0, d_model, 2).float() * -(math.log(10000.0) / d_model))\n",
    "        \n",
    "        pe[:, 0::2] = torch.sin(position * div_term)\n",
    "        pe[:, 1::2] = torch.cos(position * div_term)\n",
    "        \n",
    "        self.register_buffer('pe', pe.unsqueeze(0))\n",
    "        \n",
    "    def forward(self, x):\n",
    "        #return x + self.pe[:, :x.size(1)]\n",
    "        return x + self.pe[:, :, :x.size(2)]\n",
    "    \n",
    "class EncoderLayer(nn.Module):\n",
    "    def __init__(self, embed_dim, proj_layer_dim, dropout, num_distr=5):\n",
    "        super(EncoderLayer, self).__init__()\n",
    "        self.self_attn = MultiHeadAttention(embed_dim=embed_dim, num_heads=num_distr)\n",
    "        self.feed_forward = PositionWiseFeedForward(d_model=embed_dim, d_ff=proj_layer_dim)\n",
    "        self.norm1 = nn.LayerNorm(embed_dim)\n",
    "        self.norm2 = nn.LayerNorm(embed_dim)\n",
    "        self.dropout = nn.Dropout(dropout)\n",
    "        self.fc = nn.Linear(num_distr,1)\n",
    "        \n",
    "    def forward(self, x):\n",
    "        #x = self.fc(x.permute(1,2,0)).permute(2,0,1)\n",
    "        attn_output = self.self_attn(x, x, x)\n",
    "        x = self.norm1(x + self.dropout(attn_output))\n",
    "        ff_output = self.feed_forward(x)\n",
    "        x = self.norm2(x + self.dropout(ff_output))\n",
    "        return x\n",
    "    \n",
    "class DecoderLayer(nn.Module):\n",
    "    def __init__(self, embed_dim, a, max_seq_length, num_spins, proj_layer_dim, dropout):\n",
    "        super(DecoderLayer, self).__init__()\n",
    "        self.self_attn = VanillaAttention(embed_dim=embed_dim, a=a, max_seq_length=max_seq_length, num_spins=num_spins, dropout_rate=dropout)# masking one of the word in the sequence\n",
    "        self.cross_attn = VanillaAttention(embed_dim=embed_dim, a=a, max_seq_length=max_seq_length, num_spins=num_spins, dropout_rate=dropout)\n",
    "        self.feed_forward = PositionWiseFeedForward(d_model=embed_dim, d_ff=proj_layer_dim)\n",
    "        self.norm1 = nn.LayerNorm(embed_dim)\n",
    "        self.norm2 = nn.LayerNorm(embed_dim)\n",
    "        self.norm3 = nn.LayerNorm(embed_dim)\n",
    "        self.dropout = nn.Dropout(dropout)\n",
    "\n",
    "        self.cross_attn_weights = None\n",
    "        self.decoder_attn_weights = None\n",
    "        \n",
    "    def forward(self, x, enc_output):\n",
    "        enc_output = enc_output.squeeze(0)\n",
    "        attn_output, decoder_attn_weights = self.self_attn(x, x)\n",
    "        x = self.norm1(x + self.dropout(attn_output))\n",
    "        attn_output, cross_attn_weights = self.cross_attn(x, enc_output)\n",
    "        x = self.norm2(x + self.dropout(attn_output))\n",
    "        ff_output = self.feed_forward(x)\n",
    "        x = self.norm3(x + self.dropout(ff_output))\n",
    "        #x = x.sum(dim=0)\n",
    "        self.cross_attn_weights = cross_attn_weights \n",
    "        self.decoder_attn_weights = decoder_attn_weights\n",
    "        return x\n",
    "    "
   ]
  },
  {
   "cell_type": "code",
   "execution_count": 8,
   "metadata": {},
   "outputs": [],
   "source": [
    "class Transformer(nn.Module):\n",
    "    def __init__(self, embed_dim, a, max_seq_length, num_spins, proj_layer_dim, dropout, num_distr=5):\n",
    "        super(Transformer, self).__init__()\n",
    "        self.encoder_embedding = nn.Embedding(num_spins, embed_dim)\n",
    "        self.decoder_embedding = nn.Embedding(num_spins, embed_dim)\n",
    "\n",
    "        #self.encoder_layers = nn.ModuleList([EncoderLayer(d_model, num_heads, d_ff, dropout) for _ in range(num_layers)])\n",
    "        #self.decoder_layers = nn.ModuleList([DecoderLayer(d_model, num_heads, d_ff, dropout) for _ in range(num_layers)])\n",
    "        self.positional_encoding = PositionalEncoding(embed_dim, max_seq_length)\n",
    "        self.positional_embedding = nn.Embedding(max_seq_length, embed_dim)\n",
    "        self.encoder_layer = EncoderLayer(embed_dim, proj_layer_dim, dropout, num_distr)\n",
    "        self.decoder_layer = DecoderLayer(embed_dim, a, max_seq_length, num_spins, proj_layer_dim, dropout)\n",
    "        self.a = a\n",
    "        self.fc = nn.Linear(embed_dim, num_spins-1)\n",
    "\n",
    "    def forward(self, src, tgt):\n",
    "        #src_mask, tgt_mask = self.generate_mask(src, tgt)\n",
    "        #src_embedded = self.dropout(self.positional_encoding(self.encoder_embedding(src)))\n",
    "        #tgt_embedded = self.dropout(self.positional_encoding(self.decoder_embedding(tgt)))\n",
    "        \n",
    "        src_embedded = self.positional_encoding(self.encoder_embedding(src))\n",
    "\n",
    "        tgt_embedded = self.decoder_embedding(tgt)\n",
    "        position_ids = torch.arange(tgt_embedded.shape[1], dtype=torch.long).unsqueeze(0).expand(tgt_embedded.shape[0], tgt_embedded.shape[1])\n",
    "        position_embeddings = self.positional_embedding(position_ids)\n",
    "        tgt_embedded = tgt_embedded + self.a * position_embeddings\n",
    "\n",
    "        enc_output = self.encoder_layer(src_embedded)\n",
    "        dec_output = self.decoder_layer(tgt_embedded, enc_output)\n",
    "        output = self.fc(torch.relu(dec_output))\n",
    "        #print(\"output of the transformer:\", output.shape)\n",
    "        return output\n",
    "    \n",
    "    def get_cross_attention_weights(self):\n",
    "        return self.decoder_layer.cross_attn_weights\n",
    "    \n",
    "    def get_self_attention_weights(self):\n",
    "        return self.decoder_layer.decoder_attn_weights"
   ]
  },
  {
   "cell_type": "markdown",
   "metadata": {},
   "source": [
    "## Training and validation"
   ]
  },
  {
   "cell_type": "code",
   "execution_count": 9,
   "metadata": {},
   "outputs": [
    {
     "name": "stdout",
     "output_type": "stream",
     "text": [
      "mps\n"
     ]
    }
   ],
   "source": [
    "# Define the parameters \n",
    "vocab_size = 3\n",
    "vocab = {0:0,1:1,2:2} \n",
    "L = 200\n",
    "embedding_dim = 200\n",
    "proj_layer_dim = 128\n",
    "hidden_dim = 200\n",
    "num_layers = 1 # have to adapt the model for 2 and 3 layers\n",
    "dropout_rate = 0.0\n",
    "lr = 1e-3\n",
    "num_sequences = 1000\n",
    "num_epochs = 15\n",
    "device = torch.device(\"mps\" if torch.backends.mps.is_available() else \"cpu\")\n",
    "print(device)"
   ]
  },
  {
   "cell_type": "markdown",
   "metadata": {},
   "source": [
    "### Tracking the results"
   ]
  },
  {
   "cell_type": "code",
   "execution_count": 10,
   "metadata": {},
   "outputs": [
    {
     "name": "stderr",
     "output_type": "stream",
     "text": [
      "Failed to detect the name of this notebook, you can set it manually with the WANDB_NOTEBOOK_NAME environment variable to enable code saving.\n"
     ]
    },
    {
     "name": "stderr",
     "output_type": "stream",
     "text": [
      "\u001b[34m\u001b[1mwandb\u001b[0m: Currently logged in as: \u001b[33mmarindigen\u001b[0m. Use \u001b[1m`wandb login --relogin`\u001b[0m to force relogin\n"
     ]
    },
    {
     "data": {
      "text/html": [
       "wandb version 0.17.4 is available!  To upgrade, please run:\n",
       " $ pip install wandb --upgrade"
      ],
      "text/plain": [
       "<IPython.core.display.HTML object>"
      ]
     },
     "metadata": {},
     "output_type": "display_data"
    },
    {
     "data": {
      "text/html": [
       "Tracking run with wandb version 0.17.0"
      ],
      "text/plain": [
       "<IPython.core.display.HTML object>"
      ]
     },
     "metadata": {},
     "output_type": "display_data"
    },
    {
     "data": {
      "text/html": [
       "Run data is saved locally in <code>/Users/mariayuffa/semester-project-1/wandb/run-20240714_142019-9msbed8w</code>"
      ],
      "text/plain": [
       "<IPython.core.display.HTML object>"
      ]
     },
     "metadata": {},
     "output_type": "display_data"
    },
    {
     "data": {
      "text/html": [
       "Syncing run <strong><a href='https://wandb.ai/marindigen/cross_attention_experiment/runs/9msbed8w' target=\"_blank\">helpful-firebrand-124</a></strong> to <a href='https://wandb.ai/marindigen/cross_attention_experiment' target=\"_blank\">Weights & Biases</a> (<a href='https://wandb.me/run' target=\"_blank\">docs</a>)<br/>"
      ],
      "text/plain": [
       "<IPython.core.display.HTML object>"
      ]
     },
     "metadata": {},
     "output_type": "display_data"
    },
    {
     "data": {
      "text/html": [
       " View project at <a href='https://wandb.ai/marindigen/cross_attention_experiment' target=\"_blank\">https://wandb.ai/marindigen/cross_attention_experiment</a>"
      ],
      "text/plain": [
       "<IPython.core.display.HTML object>"
      ]
     },
     "metadata": {},
     "output_type": "display_data"
    },
    {
     "data": {
      "text/html": [
       " View run at <a href='https://wandb.ai/marindigen/cross_attention_experiment/runs/9msbed8w' target=\"_blank\">https://wandb.ai/marindigen/cross_attention_experiment/runs/9msbed8w</a>"
      ],
      "text/plain": [
       "<IPython.core.display.HTML object>"
      ]
     },
     "metadata": {},
     "output_type": "display_data"
    },
    {
     "data": {
      "text/html": [
       "<button onClick=\"this.nextSibling.style.display='block';this.style.display='none';\">Display W&B run</button><iframe src='https://wandb.ai/marindigen/cross_attention_experiment/runs/9msbed8w?jupyter=true' style='border:none;width:100%;height:420px;display:none;'></iframe>"
      ],
      "text/plain": [
       "<wandb.sdk.wandb_run.Run at 0x3135d94f0>"
      ]
     },
     "execution_count": 10,
     "metadata": {},
     "output_type": "execute_result"
    }
   ],
   "source": [
    "# start a new wandb run to track this script\n",
    "wandb.init(\n",
    "    # set the wandb project where this run will be logged\n",
    "    project=\"cross_attention_experiment\",\n",
    "\n",
    "    # track hyperparameters and run metadata\n",
    "    config={\n",
    "    \"learning_rate\": lr,\n",
    "    \"architecture\": \"Transformer\",\n",
    "    \"dataset\": \"ms_sequences_with_different_probability\",\n",
    "    \"epochs\": num_epochs,\n",
    "    }\n",
    "\n",
    ")"
   ]
  },
  {
   "cell_type": "code",
   "execution_count": 11,
   "metadata": {},
   "outputs": [],
   "source": [
    "def train(model, data_train, data_train_dec, vocab, optimizer, criterion, num_epochs=20, device=0):\n",
    "    device = torch.device(\"mps\" if torch.backends.mps.is_available() else \"cpu\")\n",
    "    # Training loop\n",
    "    model.train()\n",
    "    best_eval_loss = 1e-3 # used to do early stopping\n",
    "\n",
    "    for epoch in tqdm.tqdm(range(num_epochs), leave=False, position=0):\n",
    "        running_loss = 0\n",
    "        epoch_loss = 0\n",
    "        store_cross_attn_weights = []\n",
    "        store_decoder_attn_weights = []\n",
    "        for data_enc, data_dec in zip(data_train, data_train_dec):\n",
    "            # Get the inputs\n",
    "            input_seq_enc = torch.tensor(data_enc, dtype=torch.long)\n",
    "            input_seq_dec = torch.tensor(data_dec, dtype=torch.long)\n",
    "            # mask tokens in decoder\n",
    "            positions = torch.randint(0, input_seq_dec.shape[1], (input_seq_dec.shape[0], 1))\n",
    "            masked_sequence = input_seq_dec.clone()\n",
    "            masked_sequence[torch.arange(input_seq_dec.shape[0]), positions.squeeze(-1)] = 2\n",
    "            masked_sequence = masked_sequence.long()\n",
    "\n",
    "            # Forward pass\n",
    "            predictions = model.forward(input_seq_enc, masked_sequence).squeeze(0) #masked_sequence[masked_position])\n",
    "            positions = positions.squeeze(-1)\n",
    "\n",
    "            # Compute loss\n",
    "            loss = criterion(predictions[torch.arange(data_dec.shape[0]), positions], data_dec[torch.arange(data_dec.shape[0]), positions])\n",
    "            epoch_loss += loss.item()\n",
    "\n",
    "            store_cross_attn_weights.append(model.decoder_layer.cross_attn_weights)\n",
    "            store_decoder_attn_weights.append(model.decoder_layer.decoder_attn_weights)\n",
    "            \n",
    "            # Zero gradients, perform a backward pass, and update the weights.\n",
    "            optimizer.zero_grad()\n",
    "            loss.backward()\n",
    "            optimizer.step()\n",
    "            \n",
    "            running_loss += loss.item()\n",
    "\n",
    "        print(f'Epoch {epoch + 1} | Train Loss: {(epoch_loss / len(data_enc)):.4f}')\n",
    "        #writer.add_scalar(\"Train Loss\", epoch_loss / len(data_enc), epoch)\n",
    "        wandb.log({\"train_loss\": epoch_loss / len(data_enc)})\n",
    "        \n",
    "    return epoch_loss / len(data_train), store_cross_attn_weights, store_decoder_attn_weights"
   ]
  },
  {
   "cell_type": "code",
   "execution_count": 12,
   "metadata": {},
   "outputs": [
    {
     "name": "stderr",
     "output_type": "stream",
     "text": [
      "  0%|          | 0/20 [00:00<?, ?it/s]/var/folders/mg/44g5ch495hdc8x4_5mq3dsdm0000gn/T/ipykernel_31716/1108523803.py:14: UserWarning: To copy construct from a tensor, it is recommended to use sourceTensor.clone().detach() or sourceTensor.clone().detach().requires_grad_(True), rather than torch.tensor(sourceTensor).\n",
      "  input_seq_enc = torch.tensor(data_enc, dtype=torch.long)\n",
      "/var/folders/mg/44g5ch495hdc8x4_5mq3dsdm0000gn/T/ipykernel_31716/1108523803.py:15: UserWarning: To copy construct from a tensor, it is recommended to use sourceTensor.clone().detach() or sourceTensor.clone().detach().requires_grad_(True), rather than torch.tensor(sourceTensor).\n",
      "  input_seq_dec = torch.tensor(data_dec, dtype=torch.long)\n",
      "  5%|▌         | 1/20 [02:07<40:22, 127.49s/it]"
     ]
    },
    {
     "name": "stdout",
     "output_type": "stream",
     "text": [
      "Epoch 1 | Train Loss: 2.7401\n"
     ]
    },
    {
     "name": "stderr",
     "output_type": "stream",
     "text": [
      " 10%|█         | 2/20 [04:08<37:04, 123.57s/it]"
     ]
    },
    {
     "name": "stdout",
     "output_type": "stream",
     "text": [
      "Epoch 2 | Train Loss: 2.7228\n"
     ]
    },
    {
     "name": "stderr",
     "output_type": "stream",
     "text": [
      " 15%|█▌        | 3/20 [06:02<33:49, 119.36s/it]"
     ]
    },
    {
     "name": "stdout",
     "output_type": "stream",
     "text": [
      "Epoch 3 | Train Loss: 2.7186\n"
     ]
    },
    {
     "name": "stderr",
     "output_type": "stream",
     "text": [
      " 20%|██        | 4/20 [08:03<31:59, 119.99s/it]"
     ]
    },
    {
     "name": "stdout",
     "output_type": "stream",
     "text": [
      "Epoch 4 | Train Loss: 2.7158\n"
     ]
    },
    {
     "name": "stderr",
     "output_type": "stream",
     "text": [
      " 25%|██▌       | 5/20 [10:03<29:57, 119.82s/it]"
     ]
    },
    {
     "name": "stdout",
     "output_type": "stream",
     "text": [
      "Epoch 5 | Train Loss: 2.7178\n"
     ]
    },
    {
     "name": "stderr",
     "output_type": "stream",
     "text": [
      " 30%|███       | 6/20 [11:59<27:40, 118.64s/it]"
     ]
    },
    {
     "name": "stdout",
     "output_type": "stream",
     "text": [
      "Epoch 6 | Train Loss: 2.7173\n"
     ]
    },
    {
     "name": "stderr",
     "output_type": "stream",
     "text": [
      " 35%|███▌      | 7/20 [13:57<25:40, 118.46s/it]"
     ]
    },
    {
     "name": "stdout",
     "output_type": "stream",
     "text": [
      "Epoch 7 | Train Loss: 2.7138\n"
     ]
    },
    {
     "name": "stderr",
     "output_type": "stream",
     "text": [
      " 40%|████      | 8/20 [15:56<23:41, 118.45s/it]"
     ]
    },
    {
     "name": "stdout",
     "output_type": "stream",
     "text": [
      "Epoch 8 | Train Loss: 2.7140\n"
     ]
    },
    {
     "name": "stderr",
     "output_type": "stream",
     "text": [
      " 45%|████▌     | 9/20 [17:53<21:40, 118.22s/it]"
     ]
    },
    {
     "name": "stdout",
     "output_type": "stream",
     "text": [
      "Epoch 9 | Train Loss: 2.7127\n"
     ]
    },
    {
     "name": "stderr",
     "output_type": "stream",
     "text": [
      " 50%|█████     | 10/20 [19:52<19:43, 118.34s/it]"
     ]
    },
    {
     "name": "stdout",
     "output_type": "stream",
     "text": [
      "Epoch 10 | Train Loss: 2.7130\n"
     ]
    },
    {
     "name": "stderr",
     "output_type": "stream",
     "text": [
      " 55%|█████▌    | 11/20 [21:50<17:44, 118.26s/it]"
     ]
    },
    {
     "name": "stdout",
     "output_type": "stream",
     "text": [
      "Epoch 11 | Train Loss: 2.7127\n"
     ]
    },
    {
     "name": "stderr",
     "output_type": "stream",
     "text": [
      " 60%|██████    | 12/20 [23:48<15:46, 118.29s/it]"
     ]
    },
    {
     "name": "stdout",
     "output_type": "stream",
     "text": [
      "Epoch 12 | Train Loss: 2.7140\n"
     ]
    },
    {
     "name": "stderr",
     "output_type": "stream",
     "text": [
      " 65%|██████▌   | 13/20 [25:47<13:49, 118.45s/it]"
     ]
    },
    {
     "name": "stdout",
     "output_type": "stream",
     "text": [
      "Epoch 13 | Train Loss: 2.7120\n"
     ]
    },
    {
     "name": "stderr",
     "output_type": "stream",
     "text": [
      " 70%|███████   | 14/20 [27:45<11:50, 118.34s/it]"
     ]
    },
    {
     "name": "stdout",
     "output_type": "stream",
     "text": [
      "Epoch 14 | Train Loss: 2.7111\n"
     ]
    },
    {
     "name": "stderr",
     "output_type": "stream",
     "text": [
      " 75%|███████▌  | 15/20 [29:43<09:51, 118.22s/it]"
     ]
    },
    {
     "name": "stdout",
     "output_type": "stream",
     "text": [
      "Epoch 15 | Train Loss: 2.7126\n"
     ]
    },
    {
     "name": "stderr",
     "output_type": "stream",
     "text": [
      " 80%|████████  | 16/20 [31:45<07:57, 119.45s/it]"
     ]
    },
    {
     "name": "stdout",
     "output_type": "stream",
     "text": [
      "Epoch 16 | Train Loss: 2.7121\n"
     ]
    },
    {
     "name": "stderr",
     "output_type": "stream",
     "text": [
      " 85%|████████▌ | 17/20 [33:45<05:58, 119.37s/it]"
     ]
    },
    {
     "name": "stdout",
     "output_type": "stream",
     "text": [
      "Epoch 17 | Train Loss: 2.7124\n"
     ]
    },
    {
     "name": "stderr",
     "output_type": "stream",
     "text": [
      " 90%|█████████ | 18/20 [35:42<03:57, 118.73s/it]"
     ]
    },
    {
     "name": "stdout",
     "output_type": "stream",
     "text": [
      "Epoch 18 | Train Loss: 2.7128\n"
     ]
    },
    {
     "name": "stderr",
     "output_type": "stream",
     "text": [
      " 95%|█████████▌| 19/20 [37:40<01:58, 118.49s/it]"
     ]
    },
    {
     "name": "stdout",
     "output_type": "stream",
     "text": [
      "Epoch 19 | Train Loss: 2.7124\n"
     ]
    },
    {
     "name": "stderr",
     "output_type": "stream",
     "text": [
      "                                                "
     ]
    },
    {
     "name": "stdout",
     "output_type": "stream",
     "text": [
      "Epoch 20 | Train Loss: 2.7124\n"
     ]
    },
    {
     "name": "stderr",
     "output_type": "stream",
     "text": [
      "\r"
     ]
    },
    {
     "data": {
      "text/html": [
       "<style>\n",
       "    table.wandb td:nth-child(1) { padding: 0 10px; text-align: left ; width: auto;} td:nth-child(2) {text-align: left ; width: 100%}\n",
       "    .wandb-row { display: flex; flex-direction: row; flex-wrap: wrap; justify-content: flex-start; width: 100% }\n",
       "    .wandb-col { display: flex; flex-direction: column; flex-basis: 100%; flex: 1; padding: 10px; }\n",
       "    </style>\n",
       "<div class=\"wandb-row\"><div class=\"wandb-col\"><h3>Run history:</h3><br/><table class=\"wandb\"><tr><td>train_loss</td><td>█▄▃▂▃▂▂▂▁▁▁▂▁▁▁▁▁▁▁▁</td></tr></table><br/></div><div class=\"wandb-col\"><h3>Run summary:</h3><br/><table class=\"wandb\"><tr><td>train_loss</td><td>2.71238</td></tr></table><br/></div></div>"
      ],
      "text/plain": [
       "<IPython.core.display.HTML object>"
      ]
     },
     "metadata": {},
     "output_type": "display_data"
    },
    {
     "data": {
      "text/html": [
       " View run <strong style=\"color:#cdcd00\">helpful-firebrand-124</strong> at: <a href='https://wandb.ai/marindigen/cross_attention_experiment/runs/9msbed8w' target=\"_blank\">https://wandb.ai/marindigen/cross_attention_experiment/runs/9msbed8w</a><br/> View project at: <a href='https://wandb.ai/marindigen/cross_attention_experiment' target=\"_blank\">https://wandb.ai/marindigen/cross_attention_experiment</a><br/>Synced 5 W&B file(s), 0 media file(s), 0 artifact file(s) and 0 other file(s)"
      ],
      "text/plain": [
       "<IPython.core.display.HTML object>"
      ]
     },
     "metadata": {},
     "output_type": "display_data"
    },
    {
     "data": {
      "text/html": [
       "Find logs at: <code>./wandb/run-20240714_142019-9msbed8w/logs</code>"
      ],
      "text/plain": [
       "<IPython.core.display.HTML object>"
      ]
     },
     "metadata": {},
     "output_type": "display_data"
    }
   ],
   "source": [
    "# Example usage:\n",
    "\n",
    "model = Transformer(embed_dim=embedding_dim, a=1, max_seq_length=L, num_spins=3, proj_layer_dim=128, dropout=dropout_rate)\n",
    "optimizer = optim.Adam(model.parameters(), lr=lr)\n",
    "criterion = nn.CrossEntropyLoss()\n",
    "\n",
    "#train(model, tensor_samples_train, tensor_chains_train, tensor_samples_test, tensor_chains_test, vocab, optimizer, criterion, device=device)\n",
    "path = 'runs/embedding_run_5_(1,3)'\n",
    "#loss, store_cross_attn_weights, store_decoder_weights = training_script(path, model, data_train=enc_train_loader, data_train_dec=dec_train_loader,\n",
    "#                data_test=enc_test_loader, data_test_dec=dec_test_loader, vocab=vocab, optimizer=optimizer,\n",
    "#                criterion=criterion, one_hot_flag=False, num_epochs=num_epochs, device=0)\n",
    "\n",
    "loss, store_cross_attn_weights, store_decoder_weights = train(model, data_train=enc_train_loader,  data_train_dec=dec_train_loader, vocab=vocab, optimizer=optimizer, criterion=criterion, device=device)\n",
    "#torch.save(model.state_dict(), 'models/lstm_scratch.pt')\n",
    "#evaluate(model, test_dataloader, criterion, device=device)\n",
    "wandb.finish()"
   ]
  },
  {
   "cell_type": "code",
   "execution_count": 16,
   "metadata": {},
   "outputs": [],
   "source": [
    "def plotting_heatmaps(initial_sequences, final_chains_train, title1, title2):\n",
    "    # Set up a figure with two subplots (1 row, 2 columns)\n",
    "    fig, (ax1, ax2) = plt.subplots(1, 2, figsize=(12, 6))\n",
    "\n",
    "    # Create a heatmap on each subplot\n",
    "    sns.heatmap(initial_sequences, ax=ax1, cmap='viridis')\n",
    "    ax1.set_title(title1, fontweight=\"bold\", size=18)\n",
    "\n",
    "    sns.heatmap(final_chains_train, ax=ax2, cmap='viridis')\n",
    "    ax2.set_title(title2, fontweight=\"bold\", size=18)\n",
    "\n",
    "    # Adjust layout\n",
    "    plt.tight_layout()\n",
    "\n",
    "    # Display the plot\n",
    "    plt.show()\n",
    "\n",
    "# Calculate the number of true-positives\n",
    "'''\n",
    "def calculate_true_positives(cov_inv, J):\n",
    "    \"\"\"\n",
    "    Calculate the number of true positives.\n",
    "    Args:\n",
    "        cov_inv (np.array): Inverse covariance matrix.\n",
    "        J (np.array): True interaction matrix.\n",
    "    Returns:\n",
    "        int: Number of true positives.\n",
    "    \"\"\"\n",
    "    TP = 0\n",
    "    num_positives = np.sum(J==1)\n",
    "    for c, j in zip(cov_inv, J):\n",
    "        if (c == j) and (c == 1):\n",
    "            TP += 1\n",
    "    return TP, TP/num_positives\n",
    "'''\n",
    "def calculate_true_positives(cov_inv, J):\n",
    "    \"\"\"\n",
    "    Calculate the number of true positives.\n",
    "    Args:\n",
    "        cov_inv (np.array): Inverse covariance matrix.\n",
    "        J (np.array): True interaction matrix.\n",
    "    Returns:\n",
    "        int: Number of true positives.\n",
    "    \"\"\"\n",
    "    TP = 0\n",
    "    FP = 0\n",
    "    for c, j in zip(cov_inv, J):\n",
    "        if (c == j) and (c == 1):\n",
    "            TP += 1\n",
    "        elif (c != j) and (c == 1):\n",
    "            FP += 1\n",
    "    if TP+FP==0:\n",
    "        return TP, 0\n",
    "    return TP, TP/(TP+FP)\n",
    "\n"
   ]
  },
  {
   "cell_type": "code",
   "execution_count": 17,
   "metadata": {},
   "outputs": [
    {
     "data": {
      "text/plain": [
       "<matplotlib.image.AxesImage at 0x31c8c7650>"
      ]
     },
     "execution_count": 17,
     "metadata": {},
     "output_type": "execute_result"
    },
    {
     "data": {
      "image/png": "[encoded data removed]",
      "text/plain": [
       "<Figure size 640x480 with 1 Axes>"
      ]
     },
     "metadata": {},
     "output_type": "display_data"
    }
   ],
   "source": [
    "decoder_weights = torch.vstack(store_decoder_weights)\n",
    "weights = decoder_weights.detach().numpy().mean(axis=0)\n",
    "plt.imshow(weights)"
   ]
  },
  {
   "cell_type": "code",
   "execution_count": 18,
   "metadata": {},
   "outputs": [
    {
     "data": {
      "image/png": "[encoded data removed]",
      "text/plain": [
       "<Figure size 1200x600 with 4 Axes>"
      ]
     },
     "metadata": {},
     "output_type": "display_data"
    },
    {
     "data": {
      "text/plain": [
       "(21, 0.02625)"
      ]
     },
     "execution_count": 18,
     "metadata": {},
     "output_type": "execute_result"
    }
   ],
   "source": [
    "decoder_weights = torch.vstack(store_decoder_weights)\n",
    "weights = decoder_weights.detach().numpy().mean(axis=0)\n",
    "np.fill_diagonal(weights, 0)\n",
    "threshold_mi = np.percentile(weights, 98)\n",
    "weights = np.where(weights > threshold_mi, 1, 0)\n",
    "plotting_heatmaps(weights, J, f\"Attn. weights decoder, TP={round(calculate_true_positives(weights.flatten(), J.flatten())[1],3)}\", \"True contact matrix\")\n",
    "calculate_true_positives(weights.flatten(), J.flatten())"
   ]
  },
  {
   "cell_type": "code",
   "execution_count": 436,
   "metadata": {},
   "outputs": [],
   "source": [
    "# To save only the decoder layer weights\n",
    "#torch.save(model.decoder_layer.state_dict(), 'model_decoder/decoder_weights_experiment_batch.pth')\n",
    "#torch.save(model.get_cross_attention_weights(), 'model_decoder/transformer_cross_attn_weights_experiment_batch.pth')\n",
    "#torch.save(model.get_self_attention_weights(), 'model_decoder/transformer_dec_attn_weights_experiment_batch.pth')\n",
    "#torch.save(model.fc.state_dict(), 'model_decoder/transformer_fc_weights_batch.pth')"
   ]
  },
  {
   "cell_type": "code",
   "execution_count": 12,
   "metadata": {},
   "outputs": [
    {
     "name": "stdout",
     "output_type": "stream",
     "text": [
      "(32, 200, 200)\n",
      "(8, 200, 200)\n"
     ]
    }
   ],
   "source": [
    "cross_weights = cross_attention_weights.squeeze(0).detach().cpu().numpy()\n",
    "decoder_weights = self_attention_weights.squeeze(0).detach().cpu().numpy()\n",
    "print(cross_weights.shape)\n",
    "print(decoder_weights.shape)"
   ]
  },
  {
   "cell_type": "code",
   "execution_count": 13,
   "metadata": {},
   "outputs": [
    {
     "data": {
      "image/png": "[encoded data removed]",
      "text/plain": [
       "<Figure size 1000x800 with 2 Axes>"
      ]
     },
     "metadata": {},
     "output_type": "display_data"
    }
   ],
   "source": [
    "# Example usage\n",
    "#caw = decoder_weights.cpu().detach().numpy()\n",
    "#generate_heatmap(cross_weights.mean(axis=0))\n",
    "generate_heatmap(self_attention_weights.detach().mean(axis=0))"
   ]
  },
  {
   "cell_type": "markdown",
   "metadata": {},
   "source": [
    "# Ablation study\n",
    "In this study we remove the encoder when testing the model"
   ]
  },
  {
   "cell_type": "code",
   "execution_count": 14,
   "metadata": {},
   "outputs": [
    {
     "data": {
      "text/plain": [
       "<All keys matched successfully>"
      ]
     },
     "execution_count": 14,
     "metadata": {},
     "output_type": "execute_result"
    }
   ],
   "source": [
    "# If you need to load these weights later\n",
    "model = Transformer(embed_dim=embedding_dim, a=0, max_seq_length=L, num_spins=3, proj_layer_dim=128, dropout=dropout_rate)\n",
    "decoder_weights = torch.load('model_decoder/decoder_weights_experiment_batch.pth')\n",
    "model.decoder_layer.load_state_dict(decoder_weights)\n",
    "\n",
    "# Save the weights of the FC layer\n",
    "#torch.save(model.fc.state_dict(), 'model_decoder/transformer_fc_weights.pth')\n",
    "\n",
    "# To load these weights back into the FC layer later\n",
    "fc_weights = torch.load('model_decoder/transformer_fc_weights_batch.pth')\n",
    "model.fc.load_state_dict(fc_weights)"
   ]
  },
  {
   "cell_type": "code",
   "execution_count": 15,
   "metadata": {},
   "outputs": [],
   "source": [
    "class TransformerAblated(nn.Module):\n",
    "    def __init__(self, embed_dim, a, max_seq_length, num_spins, proj_layer_dim, dropout):\n",
    "        super(TransformerAblated, self).__init__()\n",
    "        self.word_embeddings = nn.Embedding(num_spins+1, embed_dim)\n",
    "        self.decoder_layer = DecoderLayer(embed_dim, a, max_seq_length, num_spins, proj_layer_dim, dropout)\n",
    "        self.fc = nn.Linear(embed_dim, num_spins)\n",
    "\n",
    "    def forward(self, tgt):\n",
    "        tgt_embedded = self.word_embeddings(tgt)\n",
    "        dec_output = self.decoder_layer(tgt_embedded, tgt_embedded)\n",
    "        output = self.fc(dec_output)\n",
    "        return output\n",
    "    \n",
    "    def get_cross_attention_weights(self):\n",
    "        return self.decoder_layer.cross_attn_weights\n",
    "    \n",
    "    def get_self_attention_weights(self):\n",
    "        return self.decoder_layer.decoder_attn_weights"
   ]
  },
  {
   "cell_type": "code",
   "execution_count": 16,
   "metadata": {},
   "outputs": [
    {
     "data": {
      "text/plain": [
       "<All keys matched successfully>"
      ]
     },
     "execution_count": 16,
     "metadata": {},
     "output_type": "execute_result"
    }
   ],
   "source": [
    "# Create an instance of the new model\n",
    "new_model = TransformerAblated(embed_dim=embedding_dim, a=0, max_seq_length=L, num_spins=3, proj_layer_dim=128, dropout=dropout_rate)\n",
    "\n",
    "# Load the saved decoder weights\n",
    "decoder_weights = torch.load('model_decoder/decoder_weights.pth')\n",
    "new_model.decoder_layer.load_state_dict(decoder_weights)\n",
    "\n",
    "# Load the saved FC weights\n",
    "fc_weights = torch.load('model_decoder/transformer_fc_weights.pth')\n",
    "new_model.fc.load_state_dict(fc_weights)\n"
   ]
  },
  {
   "cell_type": "code",
   "execution_count": 17,
   "metadata": {},
   "outputs": [
    {
     "name": "stdout",
     "output_type": "stream",
     "text": [
      "mps\n"
     ]
    }
   ],
   "source": [
    "# Define the parameters \n",
    "L = 200\n",
    "embedding_dim = 200\n",
    "proj_layer_dim = 128\n",
    "hidden_dim = 200\n",
    "num_layers = 1 # have to adapt the model for 2 and 3 layers\n",
    "dropout_rate = 0.0\n",
    "lr = 1e-1\n",
    "num_sequences = 1000\n",
    "num_epochs = 15\n",
    "device = torch.device(\"mps\" if torch.backends.mps.is_available() else \"cpu\")\n",
    "print(device)"
   ]
  },
  {
   "cell_type": "code",
   "execution_count": 18,
   "metadata": {},
   "outputs": [
    {
     "data": {
      "text/html": [
       "wandb version 0.17.1 is available!  To upgrade, please run:\n",
       " $ pip install wandb --upgrade"
      ],
      "text/plain": [
       "<IPython.core.display.HTML object>"
      ]
     },
     "metadata": {},
     "output_type": "display_data"
    },
    {
     "data": {
      "text/html": [
       "Tracking run with wandb version 0.17.0"
      ],
      "text/plain": [
       "<IPython.core.display.HTML object>"
      ]
     },
     "metadata": {},
     "output_type": "display_data"
    },
    {
     "data": {
      "text/html": [
       "Run data is saved locally in <code>/Users/mariayuffa/semester-project-1/wandb/run-20240607_173543-kvtz13z5</code>"
      ],
      "text/plain": [
       "<IPython.core.display.HTML object>"
      ]
     },
     "metadata": {},
     "output_type": "display_data"
    },
    {
     "data": {
      "text/html": [
       "Syncing run <strong><a href='https://wandb.ai/marindigen/cross_attention_experiment/runs/kvtz13z5' target=\"_blank\">blooming-sound-57</a></strong> to <a href='https://wandb.ai/marindigen/cross_attention_experiment' target=\"_blank\">Weights & Biases</a> (<a href='https://wandb.me/run' target=\"_blank\">docs</a>)<br/>"
      ],
      "text/plain": [
       "<IPython.core.display.HTML object>"
      ]
     },
     "metadata": {},
     "output_type": "display_data"
    },
    {
     "data": {
      "text/html": [
       " View project at <a href='https://wandb.ai/marindigen/cross_attention_experiment' target=\"_blank\">https://wandb.ai/marindigen/cross_attention_experiment</a>"
      ],
      "text/plain": [
       "<IPython.core.display.HTML object>"
      ]
     },
     "metadata": {},
     "output_type": "display_data"
    },
    {
     "data": {
      "text/html": [
       " View run at <a href='https://wandb.ai/marindigen/cross_attention_experiment/runs/kvtz13z5' target=\"_blank\">https://wandb.ai/marindigen/cross_attention_experiment/runs/kvtz13z5</a>"
      ],
      "text/plain": [
       "<IPython.core.display.HTML object>"
      ]
     },
     "metadata": {},
     "output_type": "display_data"
    },
    {
     "data": {
      "text/html": [
       "<button onClick=\"this.nextSibling.style.display='block';this.style.display='none';\">Display W&B run</button><iframe src='https://wandb.ai/marindigen/cross_attention_experiment/runs/kvtz13z5?jupyter=true' style='border:none;width:100%;height:420px;display:none;'></iframe>"
      ],
      "text/plain": [
       "<wandb.sdk.wandb_run.Run at 0x168d445c0>"
      ]
     },
     "execution_count": 18,
     "metadata": {},
     "output_type": "execute_result"
    }
   ],
   "source": [
    "# start a new wandb run to track this script\n",
    "wandb.init(\n",
    "    # set the wandb project where this run will be logged\n",
    "    project=\"cross_attention_experiment\",\n",
    "\n",
    "    # track hyperparameters and run metadata\n",
    "    config={\n",
    "    \"learning_rate\": lr,\n",
    "    \"architecture\": \"Transformer\",\n",
    "    \"dataset\": \"ms_sequences_with_different_probability\",\n",
    "    \"epochs\": num_epochs,\n",
    "    }\n",
    ")"
   ]
  },
  {
   "cell_type": "code",
   "execution_count": 19,
   "metadata": {},
   "outputs": [
    {
     "name": "stderr",
     "output_type": "stream",
     "text": [
      "  0%|          | 0/15 [00:00<?, ?it/s]/Users/mariayuffa/semester-project-1/utils.py:161: UserWarning: To copy construct from a tensor, it is recommended to use sourceTensor.clone().detach() or sourceTensor.clone().detach().requires_grad_(True), rather than torch.tensor(sourceTensor).\n",
      "  return torch.tensor(masked_sequences, dtype=torch.long), masked_positions\n",
      " 20%|██        | 32/157 [00:03<00:12, 10.01it/s]\n"
     ]
    },
    {
     "name": "stdout",
     "output_type": "stream",
     "text": [
      "Epoch 1 | Train Loss: 2.4822\n"
     ]
    },
    {
     "name": "stderr",
     "output_type": "stream",
     "text": [
      "100%|██████████| 32/32 [00:00<00:00, 61.13it/s]\n",
      "  7%|▋         | 1/15 [00:03<00:52,  3.73s/it]"
     ]
    },
    {
     "name": "stdout",
     "output_type": "stream",
     "text": [
      "Epoch 1 | Eval Loss: 1.1567\n"
     ]
    },
    {
     "name": "stderr",
     "output_type": "stream",
     "text": [
      " 20%|██        | 32/157 [00:02<00:11, 11.01it/s]\n"
     ]
    },
    {
     "name": "stdout",
     "output_type": "stream",
     "text": [
      "Epoch 2 | Train Loss: 0.7476\n"
     ]
    },
    {
     "name": "stderr",
     "output_type": "stream",
     "text": [
      "100%|██████████| 32/32 [00:00<00:00, 63.77it/s]\n",
      " 13%|█▎        | 2/15 [00:07<00:46,  3.55s/it]"
     ]
    },
    {
     "name": "stdout",
     "output_type": "stream",
     "text": [
      "Epoch 2 | Eval Loss: 0.6968\n"
     ]
    },
    {
     "name": "stderr",
     "output_type": "stream",
     "text": [
      " 20%|██        | 32/157 [00:02<00:11, 10.97it/s]\n"
     ]
    },
    {
     "name": "stdout",
     "output_type": "stream",
     "text": [
      "Epoch 3 | Train Loss: 0.6990\n"
     ]
    },
    {
     "name": "stderr",
     "output_type": "stream",
     "text": [
      "100%|██████████| 32/32 [00:00<00:00, 65.99it/s]\n",
      " 20%|██        | 3/15 [00:10<00:41,  3.49s/it]"
     ]
    },
    {
     "name": "stdout",
     "output_type": "stream",
     "text": [
      "Epoch 3 | Eval Loss: 0.7066\n"
     ]
    },
    {
     "name": "stderr",
     "output_type": "stream",
     "text": [
      " 20%|██        | 32/157 [00:02<00:11, 10.84it/s]\n"
     ]
    },
    {
     "name": "stdout",
     "output_type": "stream",
     "text": [
      "Epoch 4 | Train Loss: 0.7001\n"
     ]
    },
    {
     "name": "stderr",
     "output_type": "stream",
     "text": [
      "100%|██████████| 32/32 [00:00<00:00, 64.21it/s]\n",
      " 27%|██▋       | 4/15 [00:14<00:38,  3.48s/it]"
     ]
    },
    {
     "name": "stdout",
     "output_type": "stream",
     "text": [
      "Epoch 4 | Eval Loss: 0.6932\n"
     ]
    },
    {
     "name": "stderr",
     "output_type": "stream",
     "text": [
      " 20%|██        | 32/157 [00:03<00:11, 10.61it/s]\n"
     ]
    },
    {
     "name": "stdout",
     "output_type": "stream",
     "text": [
      "Epoch 5 | Train Loss: 0.7001\n"
     ]
    },
    {
     "name": "stderr",
     "output_type": "stream",
     "text": [
      "100%|██████████| 32/32 [00:00<00:00, 65.94it/s]\n",
      " 33%|███▎      | 5/15 [00:17<00:34,  3.49s/it]"
     ]
    },
    {
     "name": "stdout",
     "output_type": "stream",
     "text": [
      "Epoch 5 | Eval Loss: 0.6930\n"
     ]
    },
    {
     "name": "stderr",
     "output_type": "stream",
     "text": [
      " 20%|██        | 32/157 [00:02<00:11, 11.07it/s]\n"
     ]
    },
    {
     "name": "stdout",
     "output_type": "stream",
     "text": [
      "Epoch 6 | Train Loss: 0.7042\n"
     ]
    },
    {
     "name": "stderr",
     "output_type": "stream",
     "text": [
      "100%|██████████| 32/32 [00:00<00:00, 66.51it/s]\n",
      " 40%|████      | 6/15 [00:20<00:31,  3.46s/it]"
     ]
    },
    {
     "name": "stdout",
     "output_type": "stream",
     "text": [
      "Epoch 6 | Eval Loss: 0.6955\n"
     ]
    },
    {
     "name": "stderr",
     "output_type": "stream",
     "text": [
      " 20%|██        | 32/157 [00:02<00:11, 11.13it/s]\n"
     ]
    },
    {
     "name": "stdout",
     "output_type": "stream",
     "text": [
      "Epoch 7 | Train Loss: 0.7040\n"
     ]
    },
    {
     "name": "stderr",
     "output_type": "stream",
     "text": [
      "100%|██████████| 32/32 [00:00<00:00, 65.90it/s]\n",
      " 47%|████▋     | 7/15 [00:24<00:27,  3.43s/it]"
     ]
    },
    {
     "name": "stdout",
     "output_type": "stream",
     "text": [
      "Epoch 7 | Eval Loss: 0.6956\n"
     ]
    },
    {
     "name": "stderr",
     "output_type": "stream",
     "text": [
      " 20%|██        | 32/157 [00:03<00:12, 10.09it/s]\n"
     ]
    },
    {
     "name": "stdout",
     "output_type": "stream",
     "text": [
      "Epoch 8 | Train Loss: 0.7026\n"
     ]
    },
    {
     "name": "stderr",
     "output_type": "stream",
     "text": [
      "100%|██████████| 32/32 [00:00<00:00, 65.44it/s]\n",
      " 53%|█████▎    | 8/15 [00:27<00:24,  3.51s/it]"
     ]
    },
    {
     "name": "stdout",
     "output_type": "stream",
     "text": [
      "Epoch 8 | Eval Loss: 0.6946\n"
     ]
    },
    {
     "name": "stderr",
     "output_type": "stream",
     "text": [
      " 20%|██        | 32/157 [00:02<00:11, 11.11it/s]\n"
     ]
    },
    {
     "name": "stdout",
     "output_type": "stream",
     "text": [
      "Epoch 9 | Train Loss: 0.6983\n"
     ]
    },
    {
     "name": "stderr",
     "output_type": "stream",
     "text": [
      "100%|██████████| 32/32 [00:00<00:00, 66.43it/s]\n",
      " 60%|██████    | 9/15 [00:31<00:20,  3.47s/it]"
     ]
    },
    {
     "name": "stdout",
     "output_type": "stream",
     "text": [
      "Epoch 9 | Eval Loss: 0.6963\n"
     ]
    },
    {
     "name": "stderr",
     "output_type": "stream",
     "text": [
      " 20%|██        | 32/157 [00:02<00:11, 11.10it/s]\n"
     ]
    },
    {
     "name": "stdout",
     "output_type": "stream",
     "text": [
      "Epoch 10 | Train Loss: 0.6964\n"
     ]
    },
    {
     "name": "stderr",
     "output_type": "stream",
     "text": [
      "100%|██████████| 32/32 [00:00<00:00, 66.30it/s]\n",
      " 67%|██████▋   | 10/15 [00:34<00:17,  3.44s/it]"
     ]
    },
    {
     "name": "stdout",
     "output_type": "stream",
     "text": [
      "Epoch 10 | Eval Loss: 0.6955\n"
     ]
    },
    {
     "name": "stderr",
     "output_type": "stream",
     "text": [
      " 20%|██        | 32/157 [00:02<00:11, 11.09it/s]\n"
     ]
    },
    {
     "name": "stdout",
     "output_type": "stream",
     "text": [
      "Epoch 11 | Train Loss: 0.6981\n"
     ]
    },
    {
     "name": "stderr",
     "output_type": "stream",
     "text": [
      "100%|██████████| 32/32 [00:00<00:00, 66.15it/s]\n",
      " 73%|███████▎  | 11/15 [00:38<00:13,  3.42s/it]"
     ]
    },
    {
     "name": "stdout",
     "output_type": "stream",
     "text": [
      "Epoch 11 | Eval Loss: 0.6927\n"
     ]
    },
    {
     "name": "stderr",
     "output_type": "stream",
     "text": [
      " 20%|██        | 32/157 [00:02<00:11, 11.09it/s]\n"
     ]
    },
    {
     "name": "stdout",
     "output_type": "stream",
     "text": [
      "Epoch 12 | Train Loss: 0.6967\n"
     ]
    },
    {
     "name": "stderr",
     "output_type": "stream",
     "text": [
      "100%|██████████| 32/32 [00:00<00:00, 44.10it/s]\n",
      " 80%|████████  | 12/15 [00:41<00:10,  3.49s/it]"
     ]
    },
    {
     "name": "stdout",
     "output_type": "stream",
     "text": [
      "Epoch 12 | Eval Loss: 0.7257\n"
     ]
    },
    {
     "name": "stderr",
     "output_type": "stream",
     "text": [
      " 20%|██        | 32/157 [00:02<00:11, 10.73it/s]\n"
     ]
    },
    {
     "name": "stdout",
     "output_type": "stream",
     "text": [
      "Epoch 13 | Train Loss: 0.7168\n"
     ]
    },
    {
     "name": "stderr",
     "output_type": "stream",
     "text": [
      "100%|██████████| 32/32 [00:00<00:00, 65.47it/s]\n",
      " 87%|████████▋ | 13/15 [00:45<00:06,  3.49s/it]"
     ]
    },
    {
     "name": "stdout",
     "output_type": "stream",
     "text": [
      "Epoch 13 | Eval Loss: 0.6938\n"
     ]
    },
    {
     "name": "stderr",
     "output_type": "stream",
     "text": [
      " 20%|██        | 32/157 [00:02<00:11, 11.08it/s]\n"
     ]
    },
    {
     "name": "stdout",
     "output_type": "stream",
     "text": [
      "Epoch 14 | Train Loss: 0.7047\n"
     ]
    },
    {
     "name": "stderr",
     "output_type": "stream",
     "text": [
      "100%|██████████| 32/32 [00:00<00:00, 68.17it/s]\n",
      " 93%|█████████▎| 14/15 [00:48<00:03,  3.45s/it]"
     ]
    },
    {
     "name": "stdout",
     "output_type": "stream",
     "text": [
      "Epoch 14 | Eval Loss: 0.7069\n"
     ]
    },
    {
     "name": "stderr",
     "output_type": "stream",
     "text": [
      " 20%|██        | 32/157 [00:02<00:11, 10.81it/s]\n"
     ]
    },
    {
     "name": "stdout",
     "output_type": "stream",
     "text": [
      "Epoch 15 | Train Loss: 0.7084\n"
     ]
    },
    {
     "name": "stderr",
     "output_type": "stream",
     "text": [
      "100%|██████████| 32/32 [00:00<00:00, 64.99it/s]\n",
      "                                               \r"
     ]
    },
    {
     "name": "stdout",
     "output_type": "stream",
     "text": [
      "Epoch 15 | Eval Loss: 0.6937\n"
     ]
    },
    {
     "data": {
      "text/html": [
       "<style>\n",
       "    table.wandb td:nth-child(1) { padding: 0 10px; text-align: left ; width: auto;} td:nth-child(2) {text-align: left ; width: 100%}\n",
       "    .wandb-row { display: flex; flex-direction: row; flex-wrap: wrap; justify-content: flex-start; width: 100% }\n",
       "    .wandb-col { display: flex; flex-direction: column; flex-basis: 100%; flex: 1; padding: 10px; }\n",
       "    </style>\n",
       "<div class=\"wandb-row\"><div class=\"wandb-col\"><h3>Run history:</h3><br/><table class=\"wandb\"><tr><td>eval_loss</td><td>█▁▁▁▁▁▁▁▁▁▁▁▁▁▁</td></tr><tr><td>train_loss</td><td>█▂▁▃▃▃▁▃▃▂▃▂▄▂▃</td></tr></table><br/></div><div class=\"wandb-col\"><h3>Run summary:</h3><br/><table class=\"wandb\"><tr><td>eval_loss</td><td>0.69371</td></tr><tr><td>train_loss</td><td>0.71187</td></tr></table><br/></div></div>"
      ],
      "text/plain": [
       "<IPython.core.display.HTML object>"
      ]
     },
     "metadata": {},
     "output_type": "display_data"
    },
    {
     "data": {
      "text/html": [
       " View run <strong style=\"color:#cdcd00\">blooming-sound-57</strong> at: <a href='https://wandb.ai/marindigen/cross_attention_experiment/runs/kvtz13z5' target=\"_blank\">https://wandb.ai/marindigen/cross_attention_experiment/runs/kvtz13z5</a><br/> View project at: <a href='https://wandb.ai/marindigen/cross_attention_experiment' target=\"_blank\">https://wandb.ai/marindigen/cross_attention_experiment</a><br/>Synced 5 W&B file(s), 0 media file(s), 0 artifact file(s) and 0 other file(s)"
      ],
      "text/plain": [
       "<IPython.core.display.HTML object>"
      ]
     },
     "metadata": {},
     "output_type": "display_data"
    },
    {
     "data": {
      "text/html": [
       "Find logs at: <code>./wandb/run-20240607_173543-kvtz13z5/logs</code>"
      ],
      "text/plain": [
       "<IPython.core.display.HTML object>"
      ]
     },
     "metadata": {},
     "output_type": "display_data"
    }
   ],
   "source": [
    "optimizer = optim.Adam(model.parameters(), lr=lr)\n",
    "criterion = nn.CrossEntropyLoss()\n",
    "vocab = {0:0,1:1,2:2}\n",
    "path = '/Users/mariayuffa/semester-project-1/runs'\n",
    "\n",
    "#training_script(path, model, data_train=enc_train_loader, data_train_dec=dec_train_loader,\n",
    "#                data_test=enc_test_loader, data_test_dec=dec_test_loader, vocab=vocab, optimizer=optimizer,\n",
    "#                criterion=criterion, one_hot_flag=False, num_epochs=num_epochs, device=0)\n",
    "\n",
    "#loss, weights = train(model, new_model, tensor_samples_train, tensor_chains_train, tensor_samples_test, tensor_chains_test, vocab, optimizer, criterion, device=device)\n",
    "store_cross_attention, store_decoder_attention = training_script_ablated(path, model, new_model, enc_train_loader, dec_train_loader, enc_test_loader, dec_test_loader, vocab, optimizer, criterion, one_hot_flag=False, num_epochs=num_epochs, device=0)\n",
    "wandb.finish()"
   ]
  },
  {
   "cell_type": "markdown",
   "metadata": {},
   "source": [
    "# Extracting activations"
   ]
  },
  {
   "cell_type": "code",
   "execution_count": 20,
   "metadata": {},
   "outputs": [
    {
     "name": "stdout",
     "output_type": "stream",
     "text": [
      "Cross-attention weights: torch.Size([8, 200, 200])\n",
      "Self-attention weights: torch.Size([8, 200, 200])\n"
     ]
    }
   ],
   "source": [
    "# loading self-attention weights\n",
    "#cross_attention_weights = torch.load('model_decoder/transformer_cross_attn_weights.pth')\n",
    "cross_attention_weights = new_model.get_cross_attention_weights()\n",
    "self_attention_weights = new_model.get_self_attention_weights()\n",
    "\n",
    "print(\"Cross-attention weights:\", cross_attention_weights.shape)\n",
    "print(\"Self-attention weights:\", self_attention_weights.shape)"
   ]
  },
  {
   "cell_type": "code",
   "execution_count": 21,
   "metadata": {},
   "outputs": [
    {
     "data": {
      "image/png": "[encoded data removed]",
      "text/plain": [
       "<Figure size 1000x800 with 2 Axes>"
      ]
     },
     "metadata": {},
     "output_type": "display_data"
    }
   ],
   "source": [
    "generate_heatmap(cross_attention_weights.mean(0).detach().numpy())"
   ]
  },
  {
   "cell_type": "code",
   "execution_count": 22,
   "metadata": {},
   "outputs": [
    {
     "data": {
      "image/png": "[encoded data removed]",
      "text/plain": [
       "<Figure size 1000x800 with 2 Axes>"
      ]
     },
     "metadata": {},
     "output_type": "display_data"
    }
   ],
   "source": [
    "generate_heatmap(self_attention_weights.mean(0).detach().numpy())"
   ]
  },
  {
   "cell_type": "markdown",
   "metadata": {},
   "source": []
  }
 ],
 "metadata": {
  "kernelspec": {
   "display_name": "protein_interactions",
   "language": "python",
   "name": "python3"
  },
  "language_info": {
   "codemirror_mode": {
    "name": "ipython",
    "version": 3
   },
   "file_extension": ".py",
   "mimetype": "text/x-python",
   "name": "python",
   "nbconvert_exporter": "python",
   "pygments_lexer": "ipython3",
   "version": "3.12.3"
  }
 },
 "nbformat": 4,
 "nbformat_minor": 2
}
