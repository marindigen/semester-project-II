{
 "cells": [
  {
   "cell_type": "markdown",
   "metadata": {},
   "source": [
    "# Simple Transformer Implementation\n",
    "\n",
    "Sources: \n",
    "- https://www.datacamp.com/tutorial/building-a-transformer-with-py-torch\n",
    "- https://towardsdatascience.com/build-your-own-transformer-from-scratch-using-pytorch-84c850470dcb\n"
   ]
  },
  {
   "cell_type": "code",
   "execution_count": 6,
   "metadata": {},
   "outputs": [],
   "source": [
    "import torch\n",
    "import torch.nn as nn\n",
    "import torch.optim as optim\n",
    "import torch.utils.data as data\n",
    "import math\n",
    "import copy\n"
   ]
  },
  {
   "cell_type": "markdown",
   "metadata": {},
   "source": [
    "### Multi-head Attention\n",
    "- The MultiHeadAttention code initializes the module with input parameters and linear transformation layers."
   ]
  },
  {
   "cell_type": "code",
   "execution_count": 7,
   "metadata": {},
   "outputs": [],
   "source": [
    "class MultiHeadAttention(nn.Module):\n",
    "    def __init__(self, d_model, num_heads):\n",
    "        super(MultiHeadAttention, self).__init__()\n",
    "        assert d_model % num_heads == 0, \"d_model must be divisible by num_heads\"\n",
    "        \n",
    "        self.d_model = d_model\n",
    "        self.num_heads = num_heads\n",
    "        self.d_k = d_model // num_heads\n",
    "        \n",
    "        self.W_q = nn.Linear(d_model, d_model) # Linear layer for query \n",
    "        self.W_k = nn.Linear(d_model, d_model)\n",
    "        self.W_v = nn.Linear(d_model, d_model)\n",
    "        self.W_o = nn.Linear(d_model, d_model) # Output layer to ensure that dimensionality matches the model's expected dimensionality\n",
    "        \n",
    "    def scaled_dot_product_attention(self, Q, K, V, mask=None):\n",
    "        attn_scores = torch.matmul(Q, K.transpose(-2, -1)) / math.sqrt(self.d_k)\n",
    "        if mask is not None:\n",
    "            attn_scores = attn_scores.masked_fill(mask == 0, -1e9)\n",
    "        attn_probs = torch.softmax(attn_scores, dim=-1)\n",
    "        output = torch.matmul(attn_probs, V)\n",
    "        return output\n",
    "        \n",
    "    def split_heads(self, x):\n",
    "        batch_size, seq_length, d_model = x.size()\n",
    "        return x.view(batch_size, seq_length, self.num_heads, self.d_k).transpose(1, 2)\n",
    "        \n",
    "    def combine_heads(self, x):\n",
    "        batch_size, _, seq_length, d_k = x.size()\n",
    "        return x.transpose(1, 2).contiguous().view(batch_size, seq_length, self.d_model)\n",
    "        \n",
    "    def forward(self, Q, K, V, mask=None):\n",
    "        Q = self.split_heads(self.W_q(Q))\n",
    "        K = self.split_heads(self.W_k(K))\n",
    "        V = self.split_heads(self.W_v(V))\n",
    "        \n",
    "        attn_output = self.scaled_dot_product_attention(Q, K, V, mask)\n",
    "        output = self.W_o(self.combine_heads(attn_output))\n",
    "        return output"
   ]
  },
  {
   "cell_type": "markdown",
   "metadata": {},
   "source": [
    "### Position-wise Feed-Forward Networks"
   ]
  },
  {
   "cell_type": "code",
   "execution_count": 8,
   "metadata": {},
   "outputs": [],
   "source": [
    "class PositionWiseFeedForward(nn.Module):\n",
    "    def __init__(self, d_model, d_ff):\n",
    "        super(PositionWiseFeedForward, self).__init__()\n",
    "        self.fc1 = nn.Linear(d_model, d_ff)\n",
    "        self.fc2 = nn.Linear(d_ff, d_model)\n",
    "        self.relu = nn.ReLU()\n",
    "\n",
    "    def forward(self, x):\n",
    "        return self.fc2(self.relu(self.fc1(x)))"
   ]
  },
  {
   "cell_type": "markdown",
   "metadata": {},
   "source": [
    "### Positional Encoding\n",
    "\n",
    "- Add to the input embedding\n",
    "- Why do we use sine and cosine functions of different frequencies to generate positional encoding? Each position in a sequnece is encoded by an individual signal"
   ]
  },
  {
   "cell_type": "code",
   "execution_count": 9,
   "metadata": {},
   "outputs": [],
   "source": [
    "class PositionalEncoding(nn.Module):\n",
    "    def __init__(self, d_model, max_seq_length):\n",
    "        super(PositionalEncoding, self).__init__()\n",
    "        \n",
    "        pe = torch.zeros(max_seq_length, d_model)\n",
    "        position = torch.arange(0, max_seq_length, dtype=torch.float).unsqueeze(1)\n",
    "        div_term = torch.exp(torch.arange(0, d_model, 2).float() * -(math.log(10000.0) / d_model))\n",
    "        \n",
    "        pe[:, 0::2] = torch.sin(position * div_term)\n",
    "        pe[:, 1::2] = torch.cos(position * div_term)\n",
    "        \n",
    "        self.register_buffer('pe', pe.unsqueeze(0))\n",
    "        \n",
    "    def forward(self, x):\n",
    "        return x + self.pe[:, :x.size(1)]"
   ]
  },
  {
   "cell_type": "markdown",
   "metadata": {},
   "source": [
    "### Encoder"
   ]
  },
  {
   "cell_type": "code",
   "execution_count": 10,
   "metadata": {},
   "outputs": [],
   "source": [
    "class EncoderLayer(nn.Module):\n",
    "    def __init__(self, d_model, num_heads, d_ff, dropout):\n",
    "        super(EncoderLayer, self).__init__()\n",
    "        self.self_attn = MultiHeadAttention(d_model, num_heads)\n",
    "        self.feed_forward = PositionWiseFeedForward(d_model, d_ff)\n",
    "        self.norm1 = nn.LayerNorm(d_model)\n",
    "        self.norm2 = nn.LayerNorm(d_model)\n",
    "        self.dropout = nn.Dropout(dropout)\n",
    "        \n",
    "    def forward(self, x, mask):\n",
    "        attn_output = self.self_attn(x, x, x, mask)\n",
    "        x = self.norm1(x + self.dropout(attn_output))\n",
    "        ff_output = self.feed_forward(x)\n",
    "        x = self.norm2(x + self.dropout(ff_output))\n",
    "        return x"
   ]
  },
  {
   "cell_type": "markdown",
   "metadata": {},
   "source": [
    "### Decoder"
   ]
  },
  {
   "cell_type": "code",
   "execution_count": 11,
   "metadata": {},
   "outputs": [],
   "source": [
    "class DecoderLayer(nn.Module):\n",
    "    def __init__(self, d_model, num_heads, d_ff, dropout):\n",
    "        super(DecoderLayer, self).__init__()\n",
    "        self.self_attn = MultiHeadAttention(d_model, num_heads) # masking one of the word in the sequence\n",
    "        self.cross_attn = MultiHeadAttention(d_model, num_heads) # queries come from the previous layer of the decoder while the keys and values come from the encoder. Used in translation\n",
    "        self.feed_forward = PositionWiseFeedForward(d_model, d_ff)\n",
    "        self.norm1 = nn.LayerNorm(d_model)\n",
    "        self.norm2 = nn.LayerNorm(d_model)\n",
    "        self.norm3 = nn.LayerNorm(d_model)\n",
    "        self.dropout = nn.Dropout(dropout)\n",
    "        \n",
    "    def forward(self, x, enc_output, src_mask, tgt_mask):\n",
    "        attn_output = self.self_attn(x, x, x, tgt_mask)\n",
    "        x = self.norm1(x + self.dropout(attn_output))\n",
    "        attn_output = self.cross_attn(x, enc_output, enc_output, src_mask)\n",
    "        x = self.norm2(x + self.dropout(attn_output))\n",
    "        ff_output = self.feed_forward(x)\n",
    "        x = self.norm3(x + self.dropout(ff_output))\n",
    "        return x"
   ]
  },
  {
   "cell_type": "markdown",
   "metadata": {},
   "source": [
    "### All together"
   ]
  },
  {
   "cell_type": "code",
   "execution_count": 12,
   "metadata": {},
   "outputs": [],
   "source": [
    "class Transformer(nn.Module):\n",
    "    def __init__(self, src_vocab_size, tgt_vocab_size, d_model, num_heads, num_layers, d_ff, max_seq_length, dropout):\n",
    "        super(Transformer, self).__init__()\n",
    "        self.encoder_embedding = nn.Embedding(src_vocab_size, d_model)\n",
    "        self.decoder_embedding = nn.Embedding(tgt_vocab_size, d_model)\n",
    "        self.positional_encoding = PositionalEncoding(d_model, max_seq_length)\n",
    "\n",
    "        self.encoder_layers = nn.ModuleList([EncoderLayer(d_model, num_heads, d_ff, dropout) for _ in range(num_layers)])\n",
    "        self.decoder_layers = nn.ModuleList([DecoderLayer(d_model, num_heads, d_ff, dropout) for _ in range(num_layers)])\n",
    "\n",
    "        self.fc = nn.Linear(d_model, tgt_vocab_size)\n",
    "        self.dropout = nn.Dropout(dropout)\n",
    "\n",
    "    def generate_mask(self, src, tgt):\n",
    "        src_mask = (src != 0).unsqueeze(1).unsqueeze(2)\n",
    "        tgt_mask = (tgt != 0).unsqueeze(1).unsqueeze(3)\n",
    "        seq_length = tgt.size(1)\n",
    "        nopeak_mask = (1 - torch.triu(torch.ones(1, seq_length, seq_length), diagonal=1)).bool()\n",
    "        tgt_mask = tgt_mask & nopeak_mask\n",
    "        return src_mask, tgt_mask\n",
    "\n",
    "    def forward(self, src, tgt):\n",
    "        src_mask, tgt_mask = self.generate_mask(src, tgt)\n",
    "        src_embedded = self.dropout(self.positional_encoding(self.encoder_embedding(src)))\n",
    "        tgt_embedded = self.dropout(self.positional_encoding(self.decoder_embedding(tgt)))\n",
    "\n",
    "        enc_output = src_embedded\n",
    "        for enc_layer in self.encoder_layers:\n",
    "            enc_output = enc_layer(enc_output, src_mask)\n",
    "\n",
    "        dec_output = tgt_embedded\n",
    "        for dec_layer in self.decoder_layers:\n",
    "            dec_output = dec_layer(dec_output, enc_output, src_mask, tgt_mask)\n",
    "\n",
    "        output = self.fc(dec_output)\n",
    "        return output"
   ]
  },
  {
   "cell_type": "markdown",
   "metadata": {},
   "source": [
    "### Toy dataset\n",
    "- As the data we already use vectors or embedded words so to say."
   ]
  },
  {
   "cell_type": "code",
   "execution_count": 16,
   "metadata": {},
   "outputs": [],
   "source": [
    "src_vocab_size = 5000\n",
    "tgt_vocab_size = 5000\n",
    "d_model = 512\n",
    "num_heads = 8\n",
    "num_layers = 6\n",
    "d_ff = 2048\n",
    "max_seq_length = 100\n",
    "dropout = 0.1\n",
    "\n",
    "transformer = Transformer(src_vocab_size, tgt_vocab_size, d_model, num_heads, num_layers, d_ff, max_seq_length, dropout)\n",
    "\n",
    "# Generate random sample data\n",
    "src_data = torch.randint(1, src_vocab_size, (64, max_seq_length))  # (batch_size, seq_length)\n",
    "tgt_data = torch.randint(1, tgt_vocab_size, (64, max_seq_length))  # (batch_size, seq_length)"
   ]
  },
  {
   "cell_type": "code",
   "execution_count": 17,
   "metadata": {},
   "outputs": [
    {
     "name": "stdout",
     "output_type": "stream",
     "text": [
      "Epoch: 1, Loss: 8.681530952453613\n",
      "Epoch: 2, Loss: 8.557785034179688\n",
      "Epoch: 3, Loss: 8.487701416015625\n",
      "Epoch: 4, Loss: 8.437459945678711\n",
      "Epoch: 5, Loss: 8.376047134399414\n",
      "Epoch: 6, Loss: 8.314289093017578\n",
      "Epoch: 7, Loss: 8.23459243774414\n",
      "Epoch: 8, Loss: 8.156694412231445\n",
      "Epoch: 9, Loss: 8.076107025146484\n",
      "Epoch: 10, Loss: 7.997218132019043\n",
      "Epoch: 11, Loss: 7.9137396812438965\n",
      "Epoch: 12, Loss: 7.832883358001709\n",
      "Epoch: 13, Loss: 7.749440670013428\n",
      "Epoch: 14, Loss: 7.669468879699707\n",
      "Epoch: 15, Loss: 7.5854363441467285\n",
      "Epoch: 16, Loss: 7.501435279846191\n",
      "Epoch: 17, Loss: 7.416548252105713\n",
      "Epoch: 18, Loss: 7.337381362915039\n",
      "Epoch: 19, Loss: 7.2473626136779785\n",
      "Epoch: 20, Loss: 7.175623416900635\n",
      "Epoch: 21, Loss: 7.086719989776611\n",
      "Epoch: 22, Loss: 7.009517192840576\n",
      "Epoch: 23, Loss: 6.934526443481445\n",
      "Epoch: 24, Loss: 6.866889953613281\n",
      "Epoch: 25, Loss: 6.780568599700928\n",
      "Epoch: 26, Loss: 6.6993408203125\n",
      "Epoch: 27, Loss: 6.643074989318848\n",
      "Epoch: 28, Loss: 6.56882905960083\n",
      "Epoch: 29, Loss: 6.4969706535339355\n",
      "Epoch: 30, Loss: 6.4224162101745605\n",
      "Epoch: 31, Loss: 6.352397441864014\n",
      "Epoch: 32, Loss: 6.28446102142334\n",
      "Epoch: 33, Loss: 6.211263179779053\n",
      "Epoch: 34, Loss: 6.149115562438965\n",
      "Epoch: 35, Loss: 6.084036827087402\n",
      "Epoch: 36, Loss: 6.014294147491455\n",
      "Epoch: 37, Loss: 5.952332019805908\n",
      "Epoch: 38, Loss: 5.891205787658691\n",
      "Epoch: 39, Loss: 5.822672367095947\n",
      "Epoch: 40, Loss: 5.755189418792725\n",
      "Epoch: 41, Loss: 5.700142860412598\n",
      "Epoch: 42, Loss: 5.631633758544922\n",
      "Epoch: 43, Loss: 5.5719523429870605\n",
      "Epoch: 44, Loss: 5.5090789794921875\n",
      "Epoch: 45, Loss: 5.452975273132324\n",
      "Epoch: 46, Loss: 5.396568298339844\n",
      "Epoch: 47, Loss: 5.335817813873291\n",
      "Epoch: 48, Loss: 5.279268741607666\n",
      "Epoch: 49, Loss: 5.218886852264404\n",
      "Epoch: 50, Loss: 5.162690162658691\n",
      "Epoch: 51, Loss: 5.1083292961120605\n",
      "Epoch: 52, Loss: 5.047393798828125\n",
      "Epoch: 53, Loss: 4.993435859680176\n",
      "Epoch: 54, Loss: 4.94162654876709\n",
      "Epoch: 55, Loss: 4.888304710388184\n",
      "Epoch: 56, Loss: 4.834864139556885\n",
      "Epoch: 57, Loss: 4.777529716491699\n",
      "Epoch: 58, Loss: 4.726927280426025\n",
      "Epoch: 59, Loss: 4.676626205444336\n",
      "Epoch: 60, Loss: 4.618489742279053\n",
      "Epoch: 61, Loss: 4.566494941711426\n",
      "Epoch: 62, Loss: 4.512068748474121\n",
      "Epoch: 63, Loss: 4.458043098449707\n",
      "Epoch: 64, Loss: 4.403867721557617\n",
      "Epoch: 65, Loss: 4.364023685455322\n",
      "Epoch: 66, Loss: 4.304513454437256\n",
      "Epoch: 67, Loss: 4.261361122131348\n",
      "Epoch: 68, Loss: 4.2106451988220215\n",
      "Epoch: 69, Loss: 4.163872718811035\n",
      "Epoch: 70, Loss: 4.109431743621826\n",
      "Epoch: 71, Loss: 4.066866874694824\n",
      "Epoch: 72, Loss: 4.012945652008057\n",
      "Epoch: 73, Loss: 3.962629795074463\n",
      "Epoch: 74, Loss: 3.920929193496704\n",
      "Epoch: 75, Loss: 3.8618922233581543\n",
      "Epoch: 76, Loss: 3.8205692768096924\n",
      "Epoch: 77, Loss: 3.7730162143707275\n",
      "Epoch: 78, Loss: 3.727356195449829\n",
      "Epoch: 79, Loss: 3.6763670444488525\n",
      "Epoch: 80, Loss: 3.6287403106689453\n",
      "Epoch: 81, Loss: 3.5863804817199707\n",
      "Epoch: 82, Loss: 3.5413615703582764\n",
      "Epoch: 83, Loss: 3.4981141090393066\n",
      "Epoch: 84, Loss: 3.451687812805176\n",
      "Epoch: 85, Loss: 3.414571523666382\n",
      "Epoch: 86, Loss: 3.361560344696045\n",
      "Epoch: 87, Loss: 3.3131601810455322\n",
      "Epoch: 88, Loss: 3.2682855129241943\n",
      "Epoch: 89, Loss: 3.2234389781951904\n",
      "Epoch: 90, Loss: 3.182204008102417\n",
      "Epoch: 91, Loss: 3.138368844985962\n",
      "Epoch: 92, Loss: 3.089104175567627\n",
      "Epoch: 93, Loss: 3.0435705184936523\n",
      "Epoch: 94, Loss: 3.002577304840088\n",
      "Epoch: 95, Loss: 2.9583580493927\n",
      "Epoch: 96, Loss: 2.9185519218444824\n",
      "Epoch: 97, Loss: 2.88008451461792\n",
      "Epoch: 98, Loss: 2.831956148147583\n",
      "Epoch: 99, Loss: 2.7867660522460938\n",
      "Epoch: 100, Loss: 2.7525856494903564\n"
     ]
    }
   ],
   "source": [
    "criterion = nn.CrossEntropyLoss(ignore_index=0)\n",
    "optimizer = optim.Adam(transformer.parameters(), lr=0.001, betas=(0.9, 0.98), eps=1e-9)\n",
    "\n",
    "transformer.train()\n",
    "\n",
    "for epoch in range(100):\n",
    "    optimizer.zero_grad()\n",
    "    output = transformer(src_data, tgt_data[:, :-1])\n",
    "    loss = criterion(output.contiguous().view(-1, tgt_vocab_size), tgt_data[:, 1:].contiguous().view(-1))\n",
    "    loss.backward()\n",
    "    optimizer.step()\n",
    "    print(f\"Epoch: {epoch+1}, Loss: {loss.item()}\")"
   ]
  },
  {
   "cell_type": "code",
   "execution_count": null,
   "metadata": {},
   "outputs": [],
   "source": []
  }
 ],
 "metadata": {
  "kernelspec": {
   "display_name": "protein_interactions",
   "language": "python",
   "name": "python3"
  },
  "language_info": {
   "codemirror_mode": {
    "name": "ipython",
    "version": 3
   },
   "file_extension": ".py",
   "mimetype": "text/x-python",
   "name": "python",
   "nbconvert_exporter": "python",
   "pygments_lexer": "ipython3",
   "version": "3.12.2"
  }
 },
 "nbformat": 4,
 "nbformat_minor": 2
}
