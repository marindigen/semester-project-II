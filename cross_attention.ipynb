{
 "cells": [
  {
   "cell_type": "code",
   "execution_count": 2,
   "metadata": {},
   "outputs": [],
   "source": [
    "import torch\n",
    "import torch.nn as nn\n",
    "import torch.optim as optim\n",
    "import torch.utils.data as data\n",
    "import math\n",
    "import copy\n",
    "import numpy as np\n",
    "import tqdm\n",
    "import random\n",
    "import torch.nn.functional as F"
   ]
  },
  {
   "cell_type": "markdown",
   "metadata": {},
   "source": [
    "# Cross-attention implementation"
   ]
  },
  {
   "cell_type": "code",
   "execution_count": 154,
   "metadata": {},
   "outputs": [],
   "source": [
    "data_train = torch.tensor([np.random.choice([-1, 1], size=20) for _ in range(1000)])\n",
    "data_train_dec = torch.tensor([np.random.choice([-1, 1], size=20) for _ in range(1000)])\n",
    "data_test = torch.tensor([np.random.choice([-1, 1], size=20) for _ in range(400)])\n",
    "data_test_dec = torch.tensor([np.random.choice([-1, 1], size=20) for _ in range(400)])\n",
    "\n",
    "def one_hot_encoding(seq, vocab):\n",
    "    if isinstance(seq, int):\n",
    "        one_hot = torch.zeros(1, len(vocab), dtype=int)\n",
    "        one_hot[:, vocab[seq]] = 1\n",
    "    else:\n",
    "        one_hot = torch.zeros((len(seq), len(vocab)), dtype=int)\n",
    "        for i, spin in enumerate(seq):\n",
    "            one_hot[i, vocab[spin]] = 1\n",
    "    return one_hot\n",
    "\n",
    "def mask_random_spin(sequence1, sequence2, vocab, mask_token=2):\n",
    "    \"\"\"\n",
    "    Mask one random spin in a sequence of protein spins.\n",
    "    \n",
    "    Parameters:\n",
    "    - sequence: a list or sequence of spins (integers)\n",
    "    - mask_token: the token used to mask a spin (default is 2)\n",
    "    \n",
    "    Returns:\n",
    "    - masked_sequence: a sequence similar to the input but with one spin masked\n",
    "    - masked_position: the position of the spin that was masked\n",
    "    \"\"\"\n",
    "    # Ensure the sequence can be converted to a list for masking\n",
    "    sequence_list_1 = sequence1.numpy().tolist() if isinstance(sequence1, torch.Tensor) else list(sequence1)\n",
    "    sequence_list_2 = sequence2.numpy().tolist() if isinstance(sequence2, torch.Tensor) else list(sequence1)\n",
    "    # Choose a random position to mask, excluding the first spin\n",
    "    mask_position = random.randint(1, len(sequence_list_1) - 1)\n",
    "    \n",
    "    # Mask the chosen position\n",
    "    masked_sequence_1 = sequence_list_1.copy()\n",
    "    masked_sequence_1[mask_position] = mask_token\n",
    "\n",
    "    masked_sequence_2 = sequence_list_2.copy()\n",
    "    masked_sequence_2[mask_position] = mask_token\n",
    "\n",
    "    # Create an array of zeros with shape (len(sequence), len(vocab))\n",
    "    one_hot_1 = one_hot_encoding(masked_sequence_1, vocab)\n",
    "    one_hot_2 = one_hot_encoding(masked_sequence_2, vocab)\n",
    "        \n",
    "    return torch.tensor(one_hot_1, dtype=torch.float), torch.tensor(one_hot_2, dtype=torch.float), torch.tensor(mask_position)\n",
    "    "
   ]
  },
  {
   "cell_type": "code",
   "execution_count": 155,
   "metadata": {},
   "outputs": [],
   "source": [
    "class VanillaAttention(nn.Module):\n",
    "    def __init__(self, embed_dim, a, max_seq_length, num_spins=3, dropout_rate=0.0):\n",
    "        super(VanillaAttention, self).__init__()\n",
    "        self.word_embeddings = nn.Linear(num_spins, embed_dim)\n",
    "        self.position_embeddings = nn.Embedding(max_seq_length, embed_dim)\n",
    "        self.a = a  # parameter controlling how important positions are\n",
    "        self.value_weight = nn.Linear(embed_dim, embed_dim)\n",
    "        self.query_weight = nn.Linear(embed_dim, embed_dim)\n",
    "        self.key_weight = nn.Linear(embed_dim, embed_dim)\n",
    "        self.fc = nn.Linear(embed_dim, embed_dim)  # output layer\n",
    "        self.dropout = nn.Dropout(dropout_rate)\n",
    "\n",
    "    def forward(self, s):\n",
    "        #if not isinstance(s, torch.Tensor):\n",
    "        #s = torch.tensor(s, dtype=torch.float)\n",
    "        #masked_token = torch.tensor(masked_token, dtype=torch.float)\n",
    "\n",
    "        position_ids = torch.arange(s.size(0), dtype=torch.long)\n",
    "        #x = self.word_embeddings(s) + self.a*self.position_embeddings(position_ids)\n",
    "        x = s + self.a*self.position_embeddings(position_ids)\n",
    "        \n",
    "        query = self.query_weight(x)\n",
    "        key = self.key_weight(x)\n",
    "        values = self.value_weight(x)\n",
    "        \n",
    "        # Simple attention score calculation (Dot product): this is equivalent to the interaction matrix\n",
    "        scores = torch.matmul(query, key.transpose(-2, -1))  # Transpose last two dimensions for matrix multiplication\n",
    "        scores = torch.softmax(scores, dim=-1)  # Apply softmax to scores to get probabilities\n",
    "\n",
    "        # Apply attention scores to values\n",
    "        attn_output = torch.matmul(scores, values)\n",
    "\n",
    "        # Sum over the sequence length dimensions\n",
    "        #attn_output = attn_output.sum(dim=1)\n",
    "        output = self.fc(self.dropout(attn_output)) # should have size (20,3)\n",
    "\n",
    "        return output\n",
    "    \n",
    "class CrossAttention(nn.Module):\n",
    "    def __init__(self, embed_dim, a, max_seq_length, num_spins=3, dropout_rate=0.0):\n",
    "        super(CrossAttention, self).__init__()\n",
    "        self.word_embeddings = nn.Linear(num_spins, embed_dim)\n",
    "        self.position_embeddings = nn.Embedding(max_seq_length, embed_dim)\n",
    "        self.a = a  # parameter controlling how important positions are\n",
    "        self.value_weight = nn.Linear(embed_dim, embed_dim)\n",
    "        self.query_weight = nn.Linear(embed_dim, embed_dim)\n",
    "        self.key_weight = nn.Linear(embed_dim, embed_dim)\n",
    "        self.fc = nn.Linear(embed_dim, embed_dim)  # output layer\n",
    "        self.dropout = nn.Dropout(dropout_rate)\n",
    "        \n",
    "    def forward(self, s, enc_output):\n",
    "        #s = torch.tensor(s, dtype=torch.float)\n",
    "        position_ids = torch.arange(s.size(0), dtype=torch.long)\n",
    "\n",
    "        #x = self.word_embeddings(s) + self.a*self.position_embeddings(position_ids)\n",
    "        x = s + self.a*self.position_embeddings(position_ids)\n",
    "\n",
    "        query = self.query_weight(x)\n",
    "        key = self.key_weight(enc_output)\n",
    "        values = self.value_weight(enc_output)\n",
    "        \n",
    "        # Simple attention score calculation (Dot product): this is equivalent to the interaction matrix\n",
    "        scores = torch.matmul(query, key.transpose(-2, -1))  # Transpose last two dimensions for matrix multiplication\n",
    "        scores = torch.softmax(scores, dim=-1)  # Apply softmax to scores to get probabilities\n",
    "\n",
    "        # Apply attention scores to values\n",
    "        attn_output = torch.matmul(scores, values)\n",
    "\n",
    "        # Sum over the sequence length dimensions\n",
    "        #attn_output = attn_output.sum(dim=1)\n",
    "        output = self.fc(self.dropout(attn_output))\n",
    "        return output\n",
    "    \n",
    "\n",
    "class PositionWiseFeedForward(nn.Module):\n",
    "    def __init__(self, d_model, d_ff):\n",
    "        super(PositionWiseFeedForward, self).__init__()\n",
    "        self.fc1 = nn.Linear(d_model, d_ff)\n",
    "        self.fc2 = nn.Linear(d_ff, d_model)\n",
    "        self.relu = nn.ReLU()\n",
    "\n",
    "    def forward(self, x):\n",
    "        return self.fc2(self.relu(self.fc1(x)))\n"
   ]
  },
  {
   "cell_type": "code",
   "execution_count": 156,
   "metadata": {},
   "outputs": [],
   "source": [
    "class EncoderLayer(nn.Module):\n",
    "    def __init__(self, embed_dim, a, max_seq_length, num_spins, proj_layer_dim, dropout):\n",
    "        super(EncoderLayer, self).__init__()\n",
    "        self.self_attn = VanillaAttention(embed_dim=embed_dim, a=a, max_seq_length=max_seq_length, num_spins=num_spins, dropout_rate=dropout)\n",
    "        self.feed_forward = PositionWiseFeedForward(d_model=embed_dim, d_ff=proj_layer_dim)\n",
    "        self.norm1 = nn.LayerNorm(embed_dim)\n",
    "        self.norm2 = nn.LayerNorm(embed_dim)\n",
    "        self.dropout = nn.Dropout(dropout)\n",
    "        \n",
    "    def forward(self, x):\n",
    "        attn_output = self.self_attn(x)\n",
    "        x = self.norm1(x + self.dropout(attn_output))\n",
    "        ff_output = self.feed_forward(x)\n",
    "        x = self.norm2(x + self.dropout(ff_output))\n",
    "        return x\n",
    "    \n",
    "class DecoderLayer(nn.Module):\n",
    "    def __init__(self, embed_dim, a, max_seq_length, num_spins, proj_layer_dim, dropout):\n",
    "        super(DecoderLayer, self).__init__()\n",
    "        self.self_attn = VanillaAttention(embed_dim=embed_dim, a=a, max_seq_length=max_seq_length, num_spins=num_spins, dropout_rate=dropout)# masking one of the word in the sequence\n",
    "        self.cross_attn = CrossAttention(embed_dim=embed_dim, a=a, max_seq_length=max_seq_length, num_spins=num_spins, dropout_rate=dropout)# queries come from the previous layer of the decoder while the keys and values come from the encoder. Used in translation\n",
    "        self.feed_forward = PositionWiseFeedForward(d_model=embed_dim, d_ff=proj_layer_dim)\n",
    "        self.norm1 = nn.LayerNorm(embed_dim)\n",
    "        self.norm2 = nn.LayerNorm(embed_dim)\n",
    "        self.norm3 = nn.LayerNorm(embed_dim)\n",
    "        self.dropout = nn.Dropout(dropout)\n",
    "        \n",
    "    def forward(self, x, enc_output):\n",
    "        attn_output = self.self_attn(x)\n",
    "        x = self.norm1(x + self.dropout(attn_output))\n",
    "        attn_output = self.cross_attn(x, enc_output)\n",
    "        x = self.norm2(x + self.dropout(attn_output))\n",
    "        ff_output = self.feed_forward(x)\n",
    "        x = self.norm3(x + self.dropout(ff_output))\n",
    "        x = x.sum(dim=0)\n",
    "        return x"
   ]
  },
  {
   "cell_type": "code",
   "execution_count": 157,
   "metadata": {},
   "outputs": [],
   "source": [
    "class Transformer(nn.Module):\n",
    "    def __init__(self, embed_dim, a, max_seq_length, num_spins, proj_layer_dim, dropout):\n",
    "        super(Transformer, self).__init__()\n",
    "        #self.encoder_embedding = nn.Embedding(src_vocab_size, d_model)\n",
    "        #self.decoder_embedding = nn.Embedding(tgt_vocab_size, d_model)\n",
    "        self.word_embeddings = nn.Linear(num_spins, embed_dim)\n",
    "\n",
    "        #self.encoder_layers = nn.ModuleList([EncoderLayer(d_model, num_heads, d_ff, dropout) for _ in range(num_layers)])\n",
    "        #self.decoder_layers = nn.ModuleList([DecoderLayer(d_model, num_heads, d_ff, dropout) for _ in range(num_layers)])\n",
    "        self.encoder_layer = EncoderLayer(embed_dim, a, max_seq_length, num_spins, proj_layer_dim, dropout)\n",
    "        self.decoder_layer = DecoderLayer(embed_dim, a, max_seq_length, num_spins, proj_layer_dim, dropout)\n",
    "        self.fc = nn.Linear(embed_dim, num_spins)\n",
    "\n",
    "    def forward(self, src, tgt):\n",
    "        #src_mask, tgt_mask = self.generate_mask(src, tgt)\n",
    "        #src_embedded = self.dropout(self.positional_encoding(self.encoder_embedding(src)))\n",
    "        #tgt_embedded = self.dropout(self.positional_encoding(self.decoder_embedding(tgt)))\n",
    "        src_embedded = self.word_embeddings(src)\n",
    "        tgt_embedded = self.word_embeddings(tgt)\n",
    "        enc_output = self.encoder_layer(src_embedded)\n",
    "        dec_output = self.decoder_layer(tgt_embedded, enc_output)\n",
    "        output = self.fc(dec_output)\n",
    "        return output"
   ]
  },
  {
   "cell_type": "code",
   "execution_count": 161,
   "metadata": {},
   "outputs": [],
   "source": [
    "def evaluate(model, data_test, data_test_dec, vocab, criterion, device=0):\n",
    "    model.eval()\n",
    "    epoch_loss = 0\n",
    "    device = torch.device(\"mps\" if torch.backends.mps.is_available() else \"cpu\")\n",
    "    for i, data in tqdm.tqdm(enumerate(data_test), total=len(data_test)):\n",
    "        # Get the inputs\n",
    "        input_seq_enc = data\n",
    "        input_seq_dec = data_test_dec[i]\n",
    "        #input_one_hot = one_hot_encoding(input_seq.tolist(), vocab)\n",
    "        input_decoder_one_hot = one_hot_encoding(input_seq_dec.tolist(), vocab)\n",
    "        # mask a token\n",
    "        masked_sequence_enc, masked_sequence_dec, position = mask_random_spin(input_seq_enc, input_seq_dec, vocab, mask_token=2)\n",
    "        # Forward pass\n",
    "        outputs = model.forward(masked_sequence_enc, masked_sequence_dec)\n",
    "\n",
    "        #output_token = F.log_softmax(outputs, dim=-1)\n",
    "        target_token = torch.argwhere(input_decoder_one_hot[position]==1).squeeze(0) #target_token = input_seq[position]\n",
    "\n",
    "        # Compute loss\n",
    "        loss = criterion(outputs.unsqueeze(0), target_token)\n",
    "        epoch_loss += loss.item()\n",
    "    #model.train()\n",
    "    return epoch_loss / len(data_test)\n",
    "\n",
    "def train(model, data_train, data_train_dec, data_test, data_test_dec, vocab, optimizer, criterion, num_epochs=8, device=0):\n",
    "    device = torch.device(\"mps\" if torch.backends.mps.is_available() else \"cpu\")\n",
    "    # Training loop\n",
    "    model.train()\n",
    "    best_eval_loss = 1e-3 # used to do early stopping\n",
    "\n",
    "    for epoch in tqdm.tqdm(range(num_epochs), leave=False, position=0):\n",
    "        running_loss = 0\n",
    "        epoch_loss = 0\n",
    "        \n",
    "        for i, data in tqdm.tqdm(enumerate(data_train), total=len(data_train)):\n",
    "            # Get the inputs\n",
    "            input_seq_enc = data\n",
    "            input_seq_dec = data_train_dec[i]\n",
    "            #input_encoder_one_hot = one_hot_encoding(input_seq_enc.tolist(), vocab)\n",
    "            input_decoder_one_hot = one_hot_encoding(input_seq_dec.tolist(), vocab)\n",
    "\n",
    "            # mask a token\n",
    "            masked_sequence_enc, masked_sequence_dec, position = mask_random_spin(input_seq_enc, input_seq_dec, vocab, mask_token=2)\n",
    "\n",
    "            # Forward pass\n",
    "            prediction = model.forward(masked_sequence_enc, masked_sequence_dec) #masked_sequence[masked_position]\n",
    "            \n",
    "            #predicted_token = F.log_softmax(prediction, dim=-1)\n",
    "            target_token = torch.argwhere(input_decoder_one_hot[position]==1).squeeze(0) #input_seq[masked_position]\n",
    "            # Compute loss\n",
    "            loss = criterion(prediction.unsqueeze(0), target_token)\n",
    "            epoch_loss += loss.item()\n",
    "            \n",
    "            # Zero gradients, perform a backward pass, and update the weights.\n",
    "            optimizer.zero_grad()\n",
    "            loss.backward()\n",
    "            optimizer.step()\n",
    "            \n",
    "            running_loss += loss.item()\n",
    "            if i % 10 == 9. :    # print every 10 mini-batches\n",
    "                print(f'[{epoch + 1}, {i + 1:5d}] loss: {running_loss / 100:.3f}')\n",
    "                running_loss = 0.0\n",
    "\n",
    "        print(f'Epoch {epoch + 1} | Train Loss: {(epoch_loss / len(data)):.4f}')\n",
    "        eval_loss = evaluate(model, data_test, data_test_dec, vocab, criterion, device=device)\n",
    "        print(f'Epoch {epoch + 1} | Eval Loss: {(eval_loss):.4f}')\n",
    "        \n",
    "        # Perform early stopping based on eval loss\n",
    "        if eval_loss < best_eval_loss:\n",
    "            return epoch_loss / len(data_train)\n",
    "    return epoch_loss / len(data_train)"
   ]
  },
  {
   "cell_type": "code",
   "execution_count": 162,
   "metadata": {},
   "outputs": [
    {
     "name": "stdout",
     "output_type": "stream",
     "text": [
      "mps\n"
     ]
    }
   ],
   "source": [
    "# Define the parameters \n",
    "vocab_size = 3\n",
    "vocab = {-1:0,1:1,2:2} \n",
    "L = 20\n",
    "embedding_dim = 20\n",
    "proj_layer_dim = 128\n",
    "hidden_dim = 20\n",
    "num_layers = 1 # have to adapt the model for 2 and 3 layers\n",
    "dropout_rate = 0.0\n",
    "lr = 1e-3\n",
    "num_sequences = 1000\n",
    "device = torch.device(\"mps\" if torch.backends.mps.is_available() else \"cpu\")\n",
    "print(device)"
   ]
  },
  {
   "cell_type": "code",
   "execution_count": 163,
   "metadata": {},
   "outputs": [
    {
     "name": "stderr",
     "output_type": "stream",
     "text": [
      "  0%|          | 0/8 [00:00<?, ?it/s]/var/folders/mg/44g5ch495hdc8x4_5mq3dsdm0000gn/T/ipykernel_91438/1462526590.py:45: UserWarning: To copy construct from a tensor, it is recommended to use sourceTensor.clone().detach() or sourceTensor.clone().detach().requires_grad_(True), rather than torch.tensor(sourceTensor).\n",
      "  return torch.tensor(one_hot_1, dtype=torch.float), torch.tensor(one_hot_2, dtype=torch.float), torch.tensor(mask_position)\n"
     ]
    },
    {
     "name": "stdout",
     "output_type": "stream",
     "text": [
      "[1,    10] loss: 0.510\n",
      "[1,    20] loss: 0.085\n",
      "[1,    30] loss: 0.207\n",
      "[1,    40] loss: 0.080\n",
      "[1,    50] loss: 0.110\n",
      "[1,    60] loss: 0.110\n",
      "[1,    70] loss: 0.161\n",
      "[1,    80] loss: 0.093\n",
      "[1,    90] loss: 0.098\n",
      "[1,   100] loss: 0.109\n"
     ]
    },
    {
     "name": "stderr",
     "output_type": "stream",
     "text": []
    },
    {
     "name": "stdout",
     "output_type": "stream",
     "text": [
      "[1,   110] loss: 0.157\n",
      "[1,   120] loss: 0.184\n",
      "[1,   130] loss: 0.119\n",
      "[1,   140] loss: 0.093\n",
      "[1,   150] loss: 0.165\n",
      "[1,   160] loss: 0.053\n",
      "[1,   170] loss: 0.117\n",
      "[1,   180] loss: 0.075\n",
      "[1,   190] loss: 0.076\n"
     ]
    },
    {
     "name": "stderr",
     "output_type": "stream",
     "text": []
    },
    {
     "name": "stdout",
     "output_type": "stream",
     "text": [
      "[1,   200] loss: 0.070\n",
      "[1,   210] loss: 0.125\n",
      "[1,   220] loss: 0.093\n",
      "[1,   230] loss: 0.107\n",
      "[1,   240] loss: 0.133\n",
      "[1,   250] loss: 0.060\n"
     ]
    },
    {
     "name": "stderr",
     "output_type": "stream",
     "text": []
    },
    {
     "name": "stdout",
     "output_type": "stream",
     "text": [
      "[1,   260] loss: 0.094\n",
      "[1,   270] loss: 0.112\n",
      "[1,   280] loss: 0.085\n",
      "[1,   290] loss: 0.106\n",
      "[1,   300] loss: 0.109\n",
      "[1,   310] loss: 0.075\n",
      "[1,   320] loss: 0.085\n",
      "[1,   330] loss: 0.062\n",
      "[1,   340] loss: 0.073\n"
     ]
    },
    {
     "name": "stderr",
     "output_type": "stream",
     "text": []
    },
    {
     "name": "stdout",
     "output_type": "stream",
     "text": [
      "[1,   350] loss: 0.085\n",
      "[1,   360] loss: 0.087\n",
      "[1,   370] loss: 0.109\n",
      "[1,   380] loss: 0.068\n",
      "[1,   390] loss: 0.066\n",
      "[1,   400] loss: 0.095\n",
      "[1,   410] loss: 0.092\n",
      "[1,   420] loss: 0.076\n",
      "[1,   430] loss: 0.122\n"
     ]
    },
    {
     "name": "stderr",
     "output_type": "stream",
     "text": []
    },
    {
     "name": "stdout",
     "output_type": "stream",
     "text": [
      "[1,   440] loss: 0.104\n",
      "[1,   450] loss: 0.072\n",
      "[1,   460] loss: 0.082\n",
      "[1,   470] loss: 0.032\n",
      "[1,   480] loss: 0.103\n",
      "[1,   490] loss: 0.090\n",
      "[1,   500] loss: 0.071\n",
      "[1,   510] loss: 0.102\n",
      "[1,   520] loss: 0.098\n"
     ]
    },
    {
     "name": "stderr",
     "output_type": "stream",
     "text": []
    },
    {
     "name": "stdout",
     "output_type": "stream",
     "text": [
      "[1,   530] loss: 0.124\n",
      "[1,   540] loss: 0.073\n",
      "[1,   550] loss: 0.105\n",
      "[1,   560] loss: 0.091\n",
      "[1,   570] loss: 0.094\n",
      "[1,   580] loss: 0.089\n",
      "[1,   590] loss: 0.032\n",
      "[1,   600] loss: 0.118\n",
      "[1,   610] loss: 0.081\n"
     ]
    },
    {
     "name": "stderr",
     "output_type": "stream",
     "text": []
    },
    {
     "name": "stdout",
     "output_type": "stream",
     "text": [
      "[1,   620] loss: 0.074\n",
      "[1,   630] loss: 0.064\n",
      "[1,   640] loss: 0.074\n",
      "[1,   650] loss: 0.088\n",
      "[1,   660] loss: 0.085\n",
      "[1,   670] loss: 0.085\n",
      "[1,   680] loss: 0.073\n",
      "[1,   690] loss: 0.096\n",
      "[1,   700] loss: 0.082\n"
     ]
    },
    {
     "name": "stderr",
     "output_type": "stream",
     "text": []
    },
    {
     "name": "stdout",
     "output_type": "stream",
     "text": [
      "[1,   710] loss: 0.067\n",
      "[1,   720] loss: 0.098\n",
      "[1,   730] loss: 0.120\n",
      "[1,   740] loss: 0.102\n",
      "[1,   750] loss: 0.112\n",
      "[1,   760] loss: 0.063\n",
      "[1,   770] loss: 0.147\n",
      "[1,   780] loss: 0.071\n",
      "[1,   790] loss: 0.059\n"
     ]
    },
    {
     "name": "stderr",
     "output_type": "stream",
     "text": []
    },
    {
     "name": "stdout",
     "output_type": "stream",
     "text": [
      "[1,   800] loss: 0.086\n",
      "[1,   810] loss: 0.081\n",
      "[1,   820] loss: 0.099\n",
      "[1,   830] loss: 0.066\n",
      "[1,   840] loss: 0.138\n",
      "[1,   850] loss: 0.079\n",
      "[1,   860] loss: 0.076\n",
      "[1,   870] loss: 0.087\n",
      "[1,   880] loss: 0.077\n"
     ]
    },
    {
     "name": "stderr",
     "output_type": "stream",
     "text": []
    },
    {
     "name": "stdout",
     "output_type": "stream",
     "text": [
      "[1,   890] loss: 0.083\n",
      "[1,   900] loss: 0.074\n",
      "[1,   910] loss: 0.080\n",
      "[1,   920] loss: 0.083\n",
      "[1,   930] loss: 0.069\n",
      "[1,   940] loss: 0.079\n",
      "[1,   950] loss: 0.090\n",
      "[1,   960] loss: 0.090\n",
      "[1,   970] loss: 0.113\n"
     ]
    },
    {
     "name": "stderr",
     "output_type": "stream",
     "text": [
      "100%|██████████| 1000/1000 [00:02<00:00, 412.98it/s]\n"
     ]
    },
    {
     "name": "stdout",
     "output_type": "stream",
     "text": [
      "[1,   980] loss: 0.071\n",
      "[1,   990] loss: 0.079\n",
      "[1,  1000] loss: 0.070\n",
      "Epoch 1 | Train Loss: 48.3900\n"
     ]
    },
    {
     "name": "stderr",
     "output_type": "stream",
     "text": [
      "100%|██████████| 400/400 [00:00<00:00, 1524.33it/s]\n",
      " 12%|█▎        | 1/8 [00:02<00:18,  2.69s/it]"
     ]
    },
    {
     "name": "stdout",
     "output_type": "stream",
     "text": [
      "Epoch 1 | Eval Loss: 0.8493\n"
     ]
    },
    {
     "name": "stderr",
     "output_type": "stream",
     "text": []
    },
    {
     "name": "stdout",
     "output_type": "stream",
     "text": [
      "[2,    10] loss: 0.100\n",
      "[2,    20] loss: 0.059\n",
      "[2,    30] loss: 0.063\n",
      "[2,    40] loss: 0.083\n",
      "[2,    50] loss: 0.091\n",
      "[2,    60] loss: 0.075\n",
      "[2,    70] loss: 0.085\n",
      "[2,    80] loss: 0.070\n"
     ]
    },
    {
     "name": "stderr",
     "output_type": "stream",
     "text": []
    },
    {
     "name": "stdout",
     "output_type": "stream",
     "text": [
      "[2,    90] loss: 0.093\n"
     ]
    },
    {
     "name": "stderr",
     "output_type": "stream",
     "text": []
    },
    {
     "name": "stdout",
     "output_type": "stream",
     "text": [
      "[2,   100] loss: 0.076\n",
      "[2,   110] loss: 0.072\n",
      "[2,   120] loss: 0.096\n",
      "[2,   130] loss: 0.046\n",
      "[2,   140] loss: 0.097\n",
      "[2,   150] loss: 0.067\n",
      "[2,   160] loss: 0.128\n",
      "[2,   170] loss: 0.066\n",
      "[2,   180] loss: 0.135\n"
     ]
    },
    {
     "name": "stderr",
     "output_type": "stream",
     "text": []
    },
    {
     "name": "stdout",
     "output_type": "stream",
     "text": [
      "[2,   190] loss: 0.074\n",
      "[2,   200] loss: 0.080\n",
      "[2,   210] loss: 0.080\n",
      "[2,   220] loss: 0.065\n",
      "[2,   230] loss: 0.090\n",
      "[2,   240] loss: 0.065\n",
      "[2,   250] loss: 0.065\n",
      "[2,   260] loss: 0.078\n",
      "[2,   270] loss: 0.064\n"
     ]
    },
    {
     "name": "stderr",
     "output_type": "stream",
     "text": []
    },
    {
     "name": "stdout",
     "output_type": "stream",
     "text": [
      "[2,   280] loss: 0.119\n",
      "[2,   290] loss: 0.071\n",
      "[2,   300] loss: 0.069\n",
      "[2,   310] loss: 0.071\n",
      "[2,   320] loss: 0.072\n",
      "[2,   330] loss: 0.066\n",
      "[2,   340] loss: 0.079\n",
      "[2,   350] loss: 0.075\n",
      "[2,   360] loss: 0.066\n"
     ]
    },
    {
     "name": "stderr",
     "output_type": "stream",
     "text": []
    },
    {
     "name": "stdout",
     "output_type": "stream",
     "text": [
      "[2,   370] loss: 0.081\n",
      "[2,   380] loss: 0.086\n",
      "[2,   390] loss: 0.081\n",
      "[2,   400] loss: 0.091\n",
      "[2,   410] loss: 0.076\n",
      "[2,   420] loss: 0.082\n",
      "[2,   430] loss: 0.073\n",
      "[2,   440] loss: 0.071\n"
     ]
    },
    {
     "name": "stderr",
     "output_type": "stream",
     "text": []
    },
    {
     "name": "stdout",
     "output_type": "stream",
     "text": [
      "[2,   450] loss: 0.095\n",
      "[2,   460] loss: 0.047\n",
      "[2,   470] loss: 0.062\n",
      "[2,   480] loss: 0.137\n"
     ]
    },
    {
     "name": "stderr",
     "output_type": "stream",
     "text": []
    },
    {
     "name": "stdout",
     "output_type": "stream",
     "text": [
      "[2,   490] loss: 0.103\n",
      "[2,   500] loss: 0.150\n"
     ]
    },
    {
     "name": "stderr",
     "output_type": "stream",
     "text": []
    },
    {
     "name": "stdout",
     "output_type": "stream",
     "text": [
      "[2,   510] loss: 0.078\n",
      "[2,   520] loss: 0.097\n",
      "[2,   530] loss: 0.072\n",
      "[2,   540] loss: 0.069\n",
      "[2,   550] loss: 0.075\n",
      "[2,   560] loss: 0.068\n",
      "[2,   570] loss: 0.070\n"
     ]
    },
    {
     "name": "stderr",
     "output_type": "stream",
     "text": []
    },
    {
     "name": "stdout",
     "output_type": "stream",
     "text": [
      "[2,   580] loss: 0.054\n",
      "[2,   590] loss: 0.093\n"
     ]
    },
    {
     "name": "stderr",
     "output_type": "stream",
     "text": []
    },
    {
     "name": "stdout",
     "output_type": "stream",
     "text": [
      "[2,   600] loss: 0.091\n",
      "[2,   610] loss: 0.067\n",
      "[2,   620] loss: 0.077\n",
      "[2,   630] loss: 0.076\n",
      "[2,   640] loss: 0.079\n",
      "[2,   650] loss: 0.069\n",
      "[2,   660] loss: 0.098\n",
      "[2,   670] loss: 0.083\n"
     ]
    },
    {
     "name": "stderr",
     "output_type": "stream",
     "text": []
    },
    {
     "name": "stdout",
     "output_type": "stream",
     "text": [
      "[2,   680] loss: 0.069\n",
      "[2,   690] loss: 0.074\n",
      "[2,   700] loss: 0.114\n",
      "[2,   710] loss: 0.081\n",
      "[2,   720] loss: 0.072\n",
      "[2,   730] loss: 0.089\n",
      "[2,   740] loss: 0.077\n",
      "[2,   750] loss: 0.076\n"
     ]
    },
    {
     "name": "stderr",
     "output_type": "stream",
     "text": []
    },
    {
     "name": "stdout",
     "output_type": "stream",
     "text": [
      "[2,   760] loss: 0.081\n"
     ]
    },
    {
     "name": "stderr",
     "output_type": "stream",
     "text": []
    },
    {
     "name": "stdout",
     "output_type": "stream",
     "text": [
      "[2,   770] loss: 0.056\n",
      "[2,   780] loss: 0.067\n",
      "[2,   790] loss: 0.072\n",
      "[2,   800] loss: 0.087\n",
      "[2,   810] loss: 0.069\n",
      "[2,   820] loss: 0.074\n",
      "[2,   830] loss: 0.065\n",
      "[2,   840] loss: 0.130\n"
     ]
    },
    {
     "name": "stderr",
     "output_type": "stream",
     "text": []
    },
    {
     "name": "stdout",
     "output_type": "stream",
     "text": [
      "[2,   850] loss: 0.071\n"
     ]
    },
    {
     "name": "stderr",
     "output_type": "stream",
     "text": []
    },
    {
     "name": "stdout",
     "output_type": "stream",
     "text": [
      "[2,   860] loss: 0.137\n",
      "[2,   870] loss: 0.059\n",
      "[2,   880] loss: 0.074\n",
      "[2,   890] loss: 0.075\n",
      "[2,   900] loss: 0.077\n",
      "[2,   910] loss: 0.103\n",
      "[2,   920] loss: 0.048\n",
      "[2,   930] loss: 0.099\n"
     ]
    },
    {
     "name": "stderr",
     "output_type": "stream",
     "text": [
      "100%|██████████| 1000/1000 [00:02<00:00, 391.92it/s]\n"
     ]
    },
    {
     "name": "stdout",
     "output_type": "stream",
     "text": [
      "[2,   940] loss: 0.067\n",
      "[2,   950] loss: 0.078\n",
      "[2,   960] loss: 0.070\n",
      "[2,   970] loss: 0.075\n",
      "[2,   980] loss: 0.071\n",
      "[2,   990] loss: 0.071\n",
      "[2,  1000] loss: 0.066\n",
      "Epoch 2 | Train Loss: 39.9553\n"
     ]
    },
    {
     "name": "stderr",
     "output_type": "stream",
     "text": [
      "100%|██████████| 400/400 [00:00<00:00, 1586.12it/s]\n",
      " 25%|██▌       | 2/8 [00:05<00:16,  2.76s/it]"
     ]
    },
    {
     "name": "stdout",
     "output_type": "stream",
     "text": [
      "Epoch 2 | Eval Loss: 0.7228\n"
     ]
    },
    {
     "name": "stderr",
     "output_type": "stream",
     "text": []
    },
    {
     "name": "stdout",
     "output_type": "stream",
     "text": [
      "[3,    10] loss: 0.079\n",
      "[3,    20] loss: 0.059\n",
      "[3,    30] loss: 0.080\n",
      "[3,    40] loss: 0.083\n",
      "[3,    50] loss: 0.073\n",
      "[3,    60] loss: 0.070\n",
      "[3,    70] loss: 0.075\n",
      "[3,    80] loss: 0.081\n"
     ]
    },
    {
     "name": "stderr",
     "output_type": "stream",
     "text": []
    },
    {
     "name": "stdout",
     "output_type": "stream",
     "text": [
      "[3,    90] loss: 0.072\n"
     ]
    },
    {
     "name": "stderr",
     "output_type": "stream",
     "text": []
    },
    {
     "name": "stdout",
     "output_type": "stream",
     "text": [
      "[3,   100] loss: 0.072\n",
      "[3,   110] loss: 0.072\n",
      "[3,   120] loss: 0.079\n",
      "[3,   130] loss: 0.075\n",
      "[3,   140] loss: 0.071\n",
      "[3,   150] loss: 0.071\n",
      "[3,   160] loss: 0.077\n",
      "[3,   170] loss: 0.075\n",
      "[3,   180] loss: 0.078\n"
     ]
    },
    {
     "name": "stderr",
     "output_type": "stream",
     "text": []
    },
    {
     "name": "stdout",
     "output_type": "stream",
     "text": [
      "[3,   190] loss: 0.068\n",
      "[3,   200] loss: 0.081\n",
      "[3,   210] loss: 0.076\n",
      "[3,   220] loss: 0.073\n",
      "[3,   230] loss: 0.079\n",
      "[3,   240] loss: 0.083\n",
      "[3,   250] loss: 0.061\n",
      "[3,   260] loss: 0.083\n",
      "[3,   270] loss: 0.075\n",
      "[3,   280] loss: 0.063\n"
     ]
    },
    {
     "name": "stderr",
     "output_type": "stream",
     "text": []
    },
    {
     "name": "stdout",
     "output_type": "stream",
     "text": [
      "[3,   290] loss: 0.092\n",
      "[3,   300] loss: 0.064\n",
      "[3,   310] loss: 0.076\n",
      "[3,   320] loss: 0.065\n",
      "[3,   330] loss: 0.076\n",
      "[3,   340] loss: 0.086\n",
      "[3,   350] loss: 0.069\n"
     ]
    },
    {
     "name": "stderr",
     "output_type": "stream",
     "text": []
    },
    {
     "name": "stdout",
     "output_type": "stream",
     "text": [
      "[3,   360] loss: 0.071\n"
     ]
    },
    {
     "name": "stderr",
     "output_type": "stream",
     "text": []
    },
    {
     "name": "stdout",
     "output_type": "stream",
     "text": [
      "[3,   370] loss: 0.073\n",
      "[3,   380] loss: 0.073\n",
      "[3,   390] loss: 0.092\n",
      "[3,   400] loss: 0.081\n",
      "[3,   410] loss: 0.072\n"
     ]
    },
    {
     "name": "stderr",
     "output_type": "stream",
     "text": []
    },
    {
     "name": "stdout",
     "output_type": "stream",
     "text": [
      "[3,   420] loss: 0.075\n",
      "[3,   430] loss: 0.070\n",
      "[3,   440] loss: 0.069\n",
      "[3,   450] loss: 0.080\n"
     ]
    },
    {
     "name": "stderr",
     "output_type": "stream",
     "text": []
    },
    {
     "name": "stdout",
     "output_type": "stream",
     "text": [
      "[3,   460] loss: 0.075\n",
      "[3,   470] loss: 0.074\n",
      "[3,   480] loss: 0.075\n",
      "[3,   490] loss: 0.078\n",
      "[3,   500] loss: 0.065\n"
     ]
    },
    {
     "name": "stderr",
     "output_type": "stream",
     "text": []
    },
    {
     "name": "stdout",
     "output_type": "stream",
     "text": [
      "[3,   510] loss: 0.052\n",
      "[3,   520] loss: 0.076\n",
      "[3,   530] loss: 0.086\n",
      "[3,   540] loss: 0.100\n"
     ]
    },
    {
     "name": "stderr",
     "output_type": "stream",
     "text": []
    },
    {
     "name": "stdout",
     "output_type": "stream",
     "text": [
      "[3,   550] loss: 0.085\n",
      "[3,   560] loss: 0.064\n",
      "[3,   570] loss: 0.072\n",
      "[3,   580] loss: 0.088\n",
      "[3,   590] loss: 0.082\n"
     ]
    },
    {
     "name": "stderr",
     "output_type": "stream",
     "text": []
    },
    {
     "name": "stdout",
     "output_type": "stream",
     "text": [
      "[3,   600] loss: 0.086\n",
      "[3,   610] loss: 0.049\n",
      "[3,   620] loss: 0.105\n",
      "[3,   630] loss: 0.061\n"
     ]
    },
    {
     "name": "stderr",
     "output_type": "stream",
     "text": []
    },
    {
     "name": "stdout",
     "output_type": "stream",
     "text": [
      "[3,   640] loss: 0.070\n",
      "[3,   650] loss: 0.080\n",
      "[3,   660] loss: 0.055\n",
      "[3,   670] loss: 0.107\n",
      "[3,   680] loss: 0.062\n"
     ]
    },
    {
     "name": "stderr",
     "output_type": "stream",
     "text": []
    },
    {
     "name": "stdout",
     "output_type": "stream",
     "text": [
      "[3,   690] loss: 0.110\n",
      "[3,   700] loss: 0.086\n",
      "[3,   710] loss: 0.088\n",
      "[3,   720] loss: 0.075\n"
     ]
    },
    {
     "name": "stderr",
     "output_type": "stream",
     "text": []
    },
    {
     "name": "stdout",
     "output_type": "stream",
     "text": [
      "[3,   730] loss: 0.070\n",
      "[3,   740] loss: 0.064\n",
      "[3,   750] loss: 0.072\n",
      "[3,   760] loss: 0.077\n"
     ]
    },
    {
     "name": "stderr",
     "output_type": "stream",
     "text": []
    },
    {
     "name": "stdout",
     "output_type": "stream",
     "text": [
      "[3,   770] loss: 0.068\n",
      "[3,   780] loss: 0.078\n",
      "[3,   790] loss: 0.070\n",
      "[3,   800] loss: 0.069\n"
     ]
    },
    {
     "name": "stderr",
     "output_type": "stream",
     "text": []
    },
    {
     "name": "stdout",
     "output_type": "stream",
     "text": [
      "[3,   810] loss: 0.087\n",
      "[3,   820] loss: 0.057\n",
      "[3,   830] loss: 0.083\n",
      "[3,   840] loss: 0.074\n"
     ]
    },
    {
     "name": "stderr",
     "output_type": "stream",
     "text": []
    },
    {
     "name": "stdout",
     "output_type": "stream",
     "text": [
      "[3,   850] loss: 0.075\n",
      "[3,   860] loss: 0.076\n",
      "[3,   870] loss: 0.073\n",
      "[3,   880] loss: 0.078\n",
      "[3,   890] loss: 0.078\n"
     ]
    },
    {
     "name": "stderr",
     "output_type": "stream",
     "text": []
    },
    {
     "name": "stdout",
     "output_type": "stream",
     "text": [
      "[3,   900] loss: 0.080\n",
      "[3,   910] loss: 0.080\n",
      "[3,   920] loss: 0.070\n",
      "[3,   930] loss: 0.072\n",
      "[3,   940] loss: 0.063\n"
     ]
    },
    {
     "name": "stderr",
     "output_type": "stream",
     "text": [
      "100%|██████████| 1000/1000 [00:02<00:00, 389.72it/s]\n"
     ]
    },
    {
     "name": "stdout",
     "output_type": "stream",
     "text": [
      "[3,   950] loss: 0.077\n",
      "[3,   960] loss: 0.067\n",
      "[3,   970] loss: 0.078\n",
      "[3,   980] loss: 0.074\n",
      "[3,   990] loss: 0.070\n",
      "[3,  1000] loss: 0.081\n",
      "Epoch 3 | Train Loss: 37.6626\n"
     ]
    },
    {
     "name": "stderr",
     "output_type": "stream",
     "text": [
      "100%|██████████| 400/400 [00:00<00:00, 1589.14it/s]\n",
      " 38%|███▊      | 3/8 [00:08<00:13,  2.79s/it]"
     ]
    },
    {
     "name": "stdout",
     "output_type": "stream",
     "text": [
      "Epoch 3 | Eval Loss: 0.7018\n"
     ]
    },
    {
     "name": "stderr",
     "output_type": "stream",
     "text": []
    },
    {
     "name": "stdout",
     "output_type": "stream",
     "text": [
      "[4,    10] loss: 0.064\n",
      "[4,    20] loss: 0.090\n",
      "[4,    30] loss: 0.102\n",
      "[4,    40] loss: 0.074\n",
      "[4,    50] loss: 0.075\n",
      "[4,    60] loss: 0.072\n",
      "[4,    70] loss: 0.069\n",
      "[4,    80] loss: 0.071\n",
      "[4,    90] loss: 0.075\n"
     ]
    },
    {
     "name": "stderr",
     "output_type": "stream",
     "text": []
    },
    {
     "name": "stdout",
     "output_type": "stream",
     "text": [
      "[4,   100] loss: 0.064\n"
     ]
    },
    {
     "name": "stderr",
     "output_type": "stream",
     "text": [
      "\n"
     ]
    },
    {
     "name": "stdout",
     "output_type": "stream",
     "text": [
      "[4,   110] loss: 0.086\n",
      "[4,   120] loss: 0.075\n",
      "[4,   130] loss: 0.071\n",
      "[4,   140] loss: 0.064\n",
      "[4,   150] loss: 0.084\n",
      "[4,   160] loss: 0.068\n",
      "[4,   170] loss: 0.075\n",
      "[4,   180] loss: 0.073\n",
      "[4,   190] loss: 0.041\n"
     ]
    },
    {
     "name": "stderr",
     "output_type": "stream",
     "text": [
      " 19%|█▉        | 193/1000 [00:00<00:01, 469.53it/s]\u001b[A"
     ]
    },
    {
     "name": "stdout",
     "output_type": "stream",
     "text": [
      "[4,   200] loss: 0.080\n"
     ]
    },
    {
     "name": "stderr",
     "output_type": "stream",
     "text": []
    },
    {
     "name": "stdout",
     "output_type": "stream",
     "text": [
      "[4,   210] loss: 0.077\n",
      "[4,   220] loss: 0.074\n",
      "[4,   230] loss: 0.076\n",
      "[4,   240] loss: 0.073\n",
      "[4,   250] loss: 0.071\n",
      "[4,   260] loss: 0.074\n",
      "[4,   270] loss: 0.066\n",
      "[4,   280] loss: 0.077\n",
      "[4,   290] loss: 0.068\n",
      "[4,   300] loss: 0.074\n"
     ]
    },
    {
     "name": "stderr",
     "output_type": "stream",
     "text": []
    },
    {
     "name": "stdout",
     "output_type": "stream",
     "text": [
      "[4,   310] loss: 0.068\n",
      "[4,   320] loss: 0.065\n",
      "[4,   330] loss: 0.076\n",
      "[4,   340] loss: 0.079\n",
      "[4,   350] loss: 0.063\n",
      "[4,   360] loss: 0.069\n",
      "[4,   370] loss: 0.079\n",
      "[4,   380] loss: 0.081\n",
      "[4,   390] loss: 0.070\n",
      "[4,   400] loss: 0.067\n"
     ]
    },
    {
     "name": "stderr",
     "output_type": "stream",
     "text": []
    },
    {
     "name": "stdout",
     "output_type": "stream",
     "text": [
      "[4,   410] loss: 0.089\n",
      "[4,   420] loss: 0.075\n",
      "[4,   430] loss: 0.072\n",
      "[4,   440] loss: 0.073\n",
      "[4,   450] loss: 0.067\n",
      "[4,   460] loss: 0.084\n",
      "[4,   470] loss: 0.075\n",
      "[4,   480] loss: 0.072\n",
      "[4,   490] loss: 0.072\n"
     ]
    },
    {
     "name": "stderr",
     "output_type": "stream",
     "text": []
    },
    {
     "name": "stdout",
     "output_type": "stream",
     "text": [
      "[4,   500] loss: 0.084\n",
      "[4,   510] loss: 0.081\n",
      "[4,   520] loss: 0.078\n",
      "[4,   530] loss: 0.074\n",
      "[4,   540] loss: 0.084\n",
      "[4,   550] loss: 0.072\n",
      "[4,   560] loss: 0.077\n",
      "[4,   570] loss: 0.071\n",
      "[4,   580] loss: 0.090\n"
     ]
    },
    {
     "name": "stderr",
     "output_type": "stream",
     "text": []
    },
    {
     "name": "stdout",
     "output_type": "stream",
     "text": [
      "[4,   590] loss: 0.086\n",
      "[4,   600] loss: 0.084\n",
      "[4,   610] loss: 0.082\n",
      "[4,   620] loss: 0.071\n",
      "[4,   630] loss: 0.093\n",
      "[4,   640] loss: 0.044\n",
      "[4,   650] loss: 0.124\n",
      "[4,   660] loss: 0.084\n",
      "[4,   670] loss: 0.080\n"
     ]
    },
    {
     "name": "stderr",
     "output_type": "stream",
     "text": []
    },
    {
     "name": "stdout",
     "output_type": "stream",
     "text": [
      "[4,   680] loss: 0.077\n",
      "[4,   690] loss: 0.081\n",
      "[4,   700] loss: 0.071\n",
      "[4,   710] loss: 0.071\n",
      "[4,   720] loss: 0.068\n",
      "[4,   730] loss: 0.072\n",
      "[4,   740] loss: 0.069\n",
      "[4,   750] loss: 0.072\n",
      "[4,   760] loss: 0.073\n",
      "[4,   770] loss: 0.087\n"
     ]
    },
    {
     "name": "stderr",
     "output_type": "stream",
     "text": []
    },
    {
     "name": "stdout",
     "output_type": "stream",
     "text": [
      "[4,   780] loss: 0.070\n",
      "[4,   790] loss: 0.076\n",
      "[4,   800] loss: 0.074\n",
      "[4,   810] loss: 0.074\n",
      "[4,   820] loss: 0.069\n",
      "[4,   830] loss: 0.075\n",
      "[4,   840] loss: 0.075\n",
      "[4,   850] loss: 0.078\n",
      "[4,   860] loss: 0.078\n",
      "[4,   870] loss: 0.071\n"
     ]
    },
    {
     "name": "stderr",
     "output_type": "stream",
     "text": []
    },
    {
     "name": "stdout",
     "output_type": "stream",
     "text": [
      "[4,   880] loss: 0.070\n",
      "[4,   890] loss: 0.069\n",
      "[4,   900] loss: 0.072\n",
      "[4,   910] loss: 0.073\n",
      "[4,   920] loss: 0.064\n",
      "[4,   930] loss: 0.069\n",
      "[4,   940] loss: 0.076\n",
      "[4,   950] loss: 0.072\n",
      "[4,   960] loss: 0.078\n",
      "[4,   970] loss: 0.069\n"
     ]
    },
    {
     "name": "stderr",
     "output_type": "stream",
     "text": [
      "100%|██████████| 1000/1000 [00:02<00:00, 455.15it/s]\n"
     ]
    },
    {
     "name": "stdout",
     "output_type": "stream",
     "text": [
      "[4,   980] loss: 0.079\n",
      "[4,   990] loss: 0.077\n",
      "[4,  1000] loss: 0.072\n",
      "Epoch 4 | Train Loss: 37.3976\n"
     ]
    },
    {
     "name": "stderr",
     "output_type": "stream",
     "text": [
      "100%|██████████| 400/400 [00:00<00:00, 1148.23it/s]\n",
      " 50%|█████     | 4/8 [00:10<00:10,  2.69s/it]"
     ]
    },
    {
     "name": "stdout",
     "output_type": "stream",
     "text": [
      "Epoch 4 | Eval Loss: 0.7011\n"
     ]
    },
    {
     "name": "stderr",
     "output_type": "stream",
     "text": []
    },
    {
     "name": "stdout",
     "output_type": "stream",
     "text": [
      "[5,    10] loss: 0.071\n",
      "[5,    20] loss: 0.070\n",
      "[5,    30] loss: 0.073\n",
      "[5,    40] loss: 0.062\n",
      "[5,    50] loss: 0.070\n",
      "[5,    60] loss: 0.082\n",
      "[5,    70] loss: 0.078\n",
      "[5,    80] loss: 0.094\n",
      "[5,    90] loss: 0.062\n"
     ]
    },
    {
     "name": "stderr",
     "output_type": "stream",
     "text": []
    },
    {
     "name": "stdout",
     "output_type": "stream",
     "text": [
      "[5,   100] loss: 0.052\n"
     ]
    },
    {
     "name": "stderr",
     "output_type": "stream",
     "text": []
    },
    {
     "name": "stdout",
     "output_type": "stream",
     "text": [
      "[5,   110] loss: 0.070\n",
      "[5,   120] loss: 0.064\n",
      "[5,   130] loss: 0.080\n",
      "[5,   140] loss: 0.069\n",
      "[5,   150] loss: 0.069\n",
      "[5,   160] loss: 0.072\n",
      "[5,   170] loss: 0.075\n",
      "[5,   180] loss: 0.067\n",
      "[5,   190] loss: 0.080\n",
      "[5,   200] loss: 0.081\n"
     ]
    },
    {
     "name": "stderr",
     "output_type": "stream",
     "text": []
    },
    {
     "name": "stdout",
     "output_type": "stream",
     "text": [
      "[5,   210] loss: 0.076\n",
      "[5,   220] loss: 0.075\n",
      "[5,   230] loss: 0.070\n",
      "[5,   240] loss: 0.052\n",
      "[5,   250] loss: 0.105\n",
      "[5,   260] loss: 0.065\n",
      "[5,   270] loss: 0.096\n",
      "[5,   280] loss: 0.061\n",
      "[5,   290] loss: 0.090\n",
      "[5,   300] loss: 0.087\n"
     ]
    },
    {
     "name": "stderr",
     "output_type": "stream",
     "text": []
    },
    {
     "name": "stdout",
     "output_type": "stream",
     "text": [
      "[5,   310] loss: 0.067\n",
      "[5,   320] loss: 0.074\n",
      "[5,   330] loss: 0.070\n",
      "[5,   340] loss: 0.080\n",
      "[5,   350] loss: 0.062\n",
      "[5,   360] loss: 0.089\n",
      "[5,   370] loss: 0.064\n",
      "[5,   380] loss: 0.087\n",
      "[5,   390] loss: 0.076\n"
     ]
    },
    {
     "name": "stderr",
     "output_type": "stream",
     "text": []
    },
    {
     "name": "stdout",
     "output_type": "stream",
     "text": [
      "[5,   400] loss: 0.075\n",
      "[5,   410] loss: 0.073\n",
      "[5,   420] loss: 0.069\n",
      "[5,   430] loss: 0.076\n",
      "[5,   440] loss: 0.064\n",
      "[5,   450] loss: 0.108\n",
      "[5,   460] loss: 0.066\n",
      "[5,   470] loss: 0.072\n",
      "[5,   480] loss: 0.071\n"
     ]
    },
    {
     "name": "stderr",
     "output_type": "stream",
     "text": []
    },
    {
     "name": "stdout",
     "output_type": "stream",
     "text": [
      "[5,   490] loss: 0.070\n",
      "[5,   500] loss: 0.067\n",
      "[5,   510] loss: 0.085\n",
      "[5,   520] loss: 0.073\n",
      "[5,   530] loss: 0.070\n",
      "[5,   540] loss: 0.070\n",
      "[5,   550] loss: 0.070\n",
      "[5,   560] loss: 0.071\n",
      "[5,   570] loss: 0.069\n"
     ]
    },
    {
     "name": "stderr",
     "output_type": "stream",
     "text": []
    },
    {
     "name": "stdout",
     "output_type": "stream",
     "text": [
      "[5,   580] loss: 0.060\n",
      "[5,   590] loss: 0.082\n",
      "[5,   600] loss: 0.076\n",
      "[5,   610] loss: 0.072\n",
      "[5,   620] loss: 0.068\n",
      "[5,   630] loss: 0.071\n",
      "[5,   640] loss: 0.072\n",
      "[5,   650] loss: 0.070\n",
      "[5,   660] loss: 0.073\n"
     ]
    },
    {
     "name": "stderr",
     "output_type": "stream",
     "text": []
    },
    {
     "name": "stdout",
     "output_type": "stream",
     "text": [
      "[5,   670] loss: 0.067\n",
      "[5,   680] loss: 0.081\n",
      "[5,   690] loss: 0.073\n",
      "[5,   700] loss: 0.074\n",
      "[5,   710] loss: 0.065\n",
      "[5,   720] loss: 0.071\n",
      "[5,   730] loss: 0.084\n",
      "[5,   740] loss: 0.062\n",
      "[5,   750] loss: 0.078\n"
     ]
    },
    {
     "name": "stderr",
     "output_type": "stream",
     "text": []
    },
    {
     "name": "stdout",
     "output_type": "stream",
     "text": [
      "[5,   760] loss: 0.078\n",
      "[5,   770] loss: 0.071\n",
      "[5,   780] loss: 0.072\n",
      "[5,   790] loss: 0.071\n",
      "[5,   800] loss: 0.069\n",
      "[5,   810] loss: 0.064\n",
      "[5,   820] loss: 0.066\n",
      "[5,   830] loss: 0.101\n",
      "[5,   840] loss: 0.070\n"
     ]
    },
    {
     "name": "stderr",
     "output_type": "stream",
     "text": []
    },
    {
     "name": "stdout",
     "output_type": "stream",
     "text": [
      "[5,   850] loss: 0.073\n",
      "[5,   860] loss: 0.071\n",
      "[5,   870] loss: 0.069\n",
      "[5,   880] loss: 0.072\n",
      "[5,   890] loss: 0.064\n",
      "[5,   900] loss: 0.072\n",
      "[5,   910] loss: 0.070\n",
      "[5,   920] loss: 0.073\n",
      "[5,   930] loss: 0.075\n"
     ]
    },
    {
     "name": "stderr",
     "output_type": "stream",
     "text": [
      "100%|██████████| 1000/1000 [00:02<00:00, 430.60it/s]\n"
     ]
    },
    {
     "name": "stdout",
     "output_type": "stream",
     "text": [
      "[5,   940] loss: 0.069\n",
      "[5,   950] loss: 0.066\n",
      "[5,   960] loss: 0.072\n",
      "[5,   970] loss: 0.073\n",
      "[5,   980] loss: 0.068\n",
      "[5,   990] loss: 0.084\n",
      "[5,  1000] loss: 0.070\n",
      "Epoch 5 | Train Loss: 36.5544\n"
     ]
    },
    {
     "name": "stderr",
     "output_type": "stream",
     "text": [
      "100%|██████████| 400/400 [00:00<00:00, 1518.77it/s]\n",
      " 62%|██████▎   | 5/8 [00:13<00:07,  2.66s/it]"
     ]
    },
    {
     "name": "stdout",
     "output_type": "stream",
     "text": [
      "Epoch 5 | Eval Loss: 0.6936\n"
     ]
    },
    {
     "name": "stderr",
     "output_type": "stream",
     "text": []
    },
    {
     "name": "stdout",
     "output_type": "stream",
     "text": [
      "[6,    10] loss: 0.069\n",
      "[6,    20] loss: 0.071\n",
      "[6,    30] loss: 0.069\n",
      "[6,    40] loss: 0.064\n",
      "[6,    50] loss: 0.076\n"
     ]
    },
    {
     "name": "stderr",
     "output_type": "stream",
     "text": []
    },
    {
     "name": "stdout",
     "output_type": "stream",
     "text": [
      "[6,    60] loss: 0.066\n",
      "[6,    70] loss: 0.063\n",
      "[6,    80] loss: 0.078\n",
      "[6,    90] loss: 0.079\n"
     ]
    },
    {
     "name": "stderr",
     "output_type": "stream",
     "text": []
    },
    {
     "name": "stdout",
     "output_type": "stream",
     "text": [
      "[6,   100] loss: 0.068\n",
      "[6,   110] loss: 0.062\n",
      "[6,   120] loss: 0.070\n",
      "[6,   130] loss: 0.074\n",
      "[6,   140] loss: 0.079\n",
      "[6,   150] loss: 0.064\n",
      "[6,   160] loss: 0.062\n",
      "[6,   170] loss: 0.072\n",
      "[6,   180] loss: 0.069\n"
     ]
    },
    {
     "name": "stderr",
     "output_type": "stream",
     "text": []
    },
    {
     "name": "stdout",
     "output_type": "stream",
     "text": [
      "[6,   190] loss: 0.053\n",
      "[6,   200] loss: 0.098\n",
      "[6,   210] loss: 0.070\n",
      "[6,   220] loss: 0.062\n",
      "[6,   230] loss: 0.057\n",
      "[6,   240] loss: 0.065\n"
     ]
    },
    {
     "name": "stderr",
     "output_type": "stream",
     "text": []
    },
    {
     "name": "stdout",
     "output_type": "stream",
     "text": [
      "[6,   250] loss: 0.104\n",
      "[6,   260] loss: 0.062\n",
      "[6,   270] loss: 0.077\n"
     ]
    },
    {
     "name": "stderr",
     "output_type": "stream",
     "text": []
    },
    {
     "name": "stdout",
     "output_type": "stream",
     "text": [
      "[6,   280] loss: 0.090\n",
      "[6,   290] loss: 0.070\n",
      "[6,   300] loss: 0.066\n",
      "[6,   310] loss: 0.080\n",
      "[6,   320] loss: 0.071\n",
      "[6,   330] loss: 0.072\n"
     ]
    },
    {
     "name": "stderr",
     "output_type": "stream",
     "text": []
    },
    {
     "name": "stdout",
     "output_type": "stream",
     "text": [
      "[6,   340] loss: 0.070\n",
      "[6,   350] loss: 0.066\n",
      "[6,   360] loss: 0.057\n"
     ]
    },
    {
     "name": "stderr",
     "output_type": "stream",
     "text": []
    },
    {
     "name": "stdout",
     "output_type": "stream",
     "text": [
      "[6,   370] loss: 0.079\n",
      "[6,   380] loss: 0.075\n",
      "[6,   390] loss: 0.070\n",
      "[6,   400] loss: 0.069\n",
      "[6,   410] loss: 0.064\n",
      "[6,   420] loss: 0.076\n"
     ]
    },
    {
     "name": "stderr",
     "output_type": "stream",
     "text": []
    },
    {
     "name": "stdout",
     "output_type": "stream",
     "text": [
      "[6,   430] loss: 0.068\n",
      "[6,   440] loss: 0.078\n",
      "[6,   450] loss: 0.069\n"
     ]
    },
    {
     "name": "stderr",
     "output_type": "stream",
     "text": []
    },
    {
     "name": "stdout",
     "output_type": "stream",
     "text": [
      "[6,   460] loss: 0.071\n",
      "[6,   470] loss: 0.074\n",
      "[6,   480] loss: 0.072\n",
      "[6,   490] loss: 0.082\n",
      "[6,   500] loss: 0.079\n",
      "[6,   510] loss: 0.066\n"
     ]
    },
    {
     "name": "stderr",
     "output_type": "stream",
     "text": []
    },
    {
     "name": "stdout",
     "output_type": "stream",
     "text": [
      "[6,   520] loss: 0.072\n",
      "[6,   530] loss: 0.068\n",
      "[6,   540] loss: 0.071\n"
     ]
    },
    {
     "name": "stderr",
     "output_type": "stream",
     "text": []
    },
    {
     "name": "stdout",
     "output_type": "stream",
     "text": [
      "[6,   550] loss: 0.065\n",
      "[6,   560] loss: 0.073\n",
      "[6,   570] loss: 0.071\n",
      "[6,   580] loss: 0.067\n",
      "[6,   590] loss: 0.076\n",
      "[6,   600] loss: 0.068\n"
     ]
    },
    {
     "name": "stderr",
     "output_type": "stream",
     "text": []
    },
    {
     "name": "stdout",
     "output_type": "stream",
     "text": [
      "[6,   610] loss: 0.069\n",
      "[6,   620] loss: 0.078\n",
      "[6,   630] loss: 0.058\n",
      "[6,   640] loss: 0.074\n"
     ]
    },
    {
     "name": "stderr",
     "output_type": "stream",
     "text": []
    },
    {
     "name": "stdout",
     "output_type": "stream",
     "text": [
      "[6,   650] loss: 0.075\n",
      "[6,   660] loss: 0.072\n",
      "[6,   670] loss: 0.071\n",
      "[6,   680] loss: 0.072\n",
      "[6,   690] loss: 0.070\n",
      "[6,   700] loss: 0.070\n"
     ]
    },
    {
     "name": "stderr",
     "output_type": "stream",
     "text": []
    },
    {
     "name": "stdout",
     "output_type": "stream",
     "text": [
      "[6,   710] loss: 0.071\n",
      "[6,   720] loss: 0.069\n",
      "[6,   730] loss: 0.072\n",
      "[6,   740] loss: 0.074\n"
     ]
    },
    {
     "name": "stderr",
     "output_type": "stream",
     "text": []
    },
    {
     "name": "stdout",
     "output_type": "stream",
     "text": [
      "[6,   750] loss: 0.070\n",
      "[6,   760] loss: 0.076\n",
      "[6,   770] loss: 0.071\n",
      "[6,   780] loss: 0.076\n",
      "[6,   790] loss: 0.069\n",
      "[6,   800] loss: 0.066\n"
     ]
    },
    {
     "name": "stderr",
     "output_type": "stream",
     "text": []
    },
    {
     "name": "stdout",
     "output_type": "stream",
     "text": [
      "[6,   810] loss: 0.076\n",
      "[6,   820] loss: 0.072\n",
      "[6,   830] loss: 0.068\n",
      "[6,   840] loss: 0.070\n",
      "[6,   850] loss: 0.069\n"
     ]
    },
    {
     "name": "stderr",
     "output_type": "stream",
     "text": []
    },
    {
     "name": "stdout",
     "output_type": "stream",
     "text": [
      "[6,   860] loss: 0.071\n",
      "[6,   870] loss: 0.070\n",
      "[6,   880] loss: 0.069\n",
      "[6,   890] loss: 0.077\n"
     ]
    },
    {
     "name": "stderr",
     "output_type": "stream",
     "text": []
    },
    {
     "name": "stdout",
     "output_type": "stream",
     "text": [
      "[6,   900] loss: 0.069\n",
      "[6,   910] loss: 0.067\n",
      "[6,   920] loss: 0.079\n",
      "[6,   930] loss: 0.067\n",
      "[6,   940] loss: 0.071\n"
     ]
    },
    {
     "name": "stderr",
     "output_type": "stream",
     "text": []
    },
    {
     "name": "stdout",
     "output_type": "stream",
     "text": [
      "[6,   950] loss: 0.077\n",
      "[6,   960] loss: 0.065\n",
      "[6,   970] loss: 0.072\n"
     ]
    },
    {
     "name": "stderr",
     "output_type": "stream",
     "text": [
      "100%|██████████| 1000/1000 [00:02<00:00, 400.45it/s]\n"
     ]
    },
    {
     "name": "stdout",
     "output_type": "stream",
     "text": [
      "[6,   980] loss: 0.073\n",
      "[6,   990] loss: 0.068\n",
      "[6,  1000] loss: 0.072\n",
      "Epoch 6 | Train Loss: 35.5661\n"
     ]
    },
    {
     "name": "stderr",
     "output_type": "stream",
     "text": [
      "100%|██████████| 400/400 [00:00<00:00, 1459.88it/s]\n",
      " 75%|███████▌  | 6/8 [00:16<00:05,  2.70s/it]"
     ]
    },
    {
     "name": "stdout",
     "output_type": "stream",
     "text": [
      "Epoch 6 | Eval Loss: 0.7245\n"
     ]
    },
    {
     "name": "stderr",
     "output_type": "stream",
     "text": []
    },
    {
     "name": "stdout",
     "output_type": "stream",
     "text": [
      "[7,    10] loss: 0.064\n",
      "[7,    20] loss: 0.073\n",
      "[7,    30] loss: 0.069\n",
      "[7,    40] loss: 0.071\n",
      "[7,    50] loss: 0.071\n",
      "[7,    60] loss: 0.076\n",
      "[7,    70] loss: 0.070\n"
     ]
    },
    {
     "name": "stderr",
     "output_type": "stream",
     "text": []
    },
    {
     "name": "stdout",
     "output_type": "stream",
     "text": [
      "[7,    80] loss: 0.073\n",
      "[7,    90] loss: 0.068\n"
     ]
    },
    {
     "name": "stderr",
     "output_type": "stream",
     "text": []
    },
    {
     "name": "stdout",
     "output_type": "stream",
     "text": [
      "[7,   100] loss: 0.075\n",
      "[7,   110] loss: 0.070\n",
      "[7,   120] loss: 0.073\n",
      "[7,   130] loss: 0.073\n",
      "[7,   140] loss: 0.071\n",
      "[7,   150] loss: 0.073\n",
      "[7,   160] loss: 0.071\n"
     ]
    },
    {
     "name": "stderr",
     "output_type": "stream",
     "text": []
    },
    {
     "name": "stdout",
     "output_type": "stream",
     "text": [
      "[7,   170] loss: 0.071\n",
      "[7,   180] loss: 0.073\n"
     ]
    },
    {
     "name": "stderr",
     "output_type": "stream",
     "text": []
    },
    {
     "name": "stdout",
     "output_type": "stream",
     "text": [
      "[7,   190] loss: 0.068\n",
      "[7,   200] loss: 0.064\n",
      "[7,   210] loss: 0.077\n",
      "[7,   220] loss: 0.068\n",
      "[7,   230] loss: 0.058\n",
      "[7,   240] loss: 0.076\n",
      "[7,   250] loss: 0.070\n",
      "[7,   260] loss: 0.078\n",
      "[7,   270] loss: 0.065\n"
     ]
    },
    {
     "name": "stderr",
     "output_type": "stream",
     "text": []
    },
    {
     "name": "stdout",
     "output_type": "stream",
     "text": [
      "[7,   280] loss: 0.084\n",
      "[7,   290] loss: 0.073\n",
      "[7,   300] loss: 0.059\n",
      "[7,   310] loss: 0.074\n",
      "[7,   320] loss: 0.073\n",
      "[7,   330] loss: 0.079\n",
      "[7,   340] loss: 0.071\n",
      "[7,   350] loss: 0.070\n",
      "[7,   360] loss: 0.065\n"
     ]
    },
    {
     "name": "stderr",
     "output_type": "stream",
     "text": []
    },
    {
     "name": "stdout",
     "output_type": "stream",
     "text": [
      "[7,   370] loss: 0.077\n",
      "[7,   380] loss: 0.076\n",
      "[7,   390] loss: 0.070\n",
      "[7,   400] loss: 0.065\n",
      "[7,   410] loss: 0.063\n",
      "[7,   420] loss: 0.083\n",
      "[7,   430] loss: 0.070\n",
      "[7,   440] loss: 0.069\n",
      "[7,   450] loss: 0.071\n"
     ]
    },
    {
     "name": "stderr",
     "output_type": "stream",
     "text": []
    },
    {
     "name": "stdout",
     "output_type": "stream",
     "text": [
      "[7,   460] loss: 0.070\n",
      "[7,   470] loss: 0.065\n",
      "[7,   480] loss: 0.078\n",
      "[7,   490] loss: 0.064\n",
      "[7,   500] loss: 0.068\n",
      "[7,   510] loss: 0.072\n",
      "[7,   520] loss: 0.081\n",
      "[7,   530] loss: 0.067\n",
      "[7,   540] loss: 0.055\n"
     ]
    },
    {
     "name": "stderr",
     "output_type": "stream",
     "text": []
    },
    {
     "name": "stdout",
     "output_type": "stream",
     "text": [
      "[7,   550] loss: 0.087\n",
      "[7,   560] loss: 0.062\n",
      "[7,   570] loss: 0.073\n",
      "[7,   580] loss: 0.077\n",
      "[7,   590] loss: 0.072\n",
      "[7,   600] loss: 0.061\n",
      "[7,   610] loss: 0.077\n"
     ]
    },
    {
     "name": "stderr",
     "output_type": "stream",
     "text": []
    },
    {
     "name": "stdout",
     "output_type": "stream",
     "text": [
      "[7,   620] loss: 0.083\n",
      "[7,   630] loss: 0.068\n",
      "[7,   640] loss: 0.071\n",
      "[7,   650] loss: 0.069\n",
      "[7,   660] loss: 0.070\n",
      "[7,   670] loss: 0.071\n",
      "[7,   680] loss: 0.075\n"
     ]
    },
    {
     "name": "stderr",
     "output_type": "stream",
     "text": []
    },
    {
     "name": "stdout",
     "output_type": "stream",
     "text": [
      "[7,   690] loss: 0.066\n",
      "[7,   700] loss: 0.071\n",
      "[7,   710] loss: 0.071\n",
      "[7,   720] loss: 0.070\n",
      "[7,   730] loss: 0.071\n",
      "[7,   740] loss: 0.068\n",
      "[7,   750] loss: 0.068\n",
      "[7,   760] loss: 0.069\n",
      "[7,   770] loss: 0.063\n"
     ]
    },
    {
     "name": "stderr",
     "output_type": "stream",
     "text": []
    },
    {
     "name": "stdout",
     "output_type": "stream",
     "text": [
      "[7,   780] loss: 0.080\n",
      "[7,   790] loss: 0.067\n",
      "[7,   800] loss: 0.071\n",
      "[7,   810] loss: 0.070\n",
      "[7,   820] loss: 0.069\n",
      "[7,   830] loss: 0.076\n",
      "[7,   840] loss: 0.072\n",
      "[7,   850] loss: 0.069\n",
      "[7,   860] loss: 0.063\n"
     ]
    },
    {
     "name": "stderr",
     "output_type": "stream",
     "text": []
    },
    {
     "name": "stdout",
     "output_type": "stream",
     "text": [
      "[7,   870] loss: 0.069\n",
      "[7,   880] loss: 0.083\n",
      "[7,   890] loss: 0.056\n",
      "[7,   900] loss: 0.091\n",
      "[7,   910] loss: 0.065\n",
      "[7,   920] loss: 0.071\n",
      "[7,   930] loss: 0.071\n",
      "[7,   940] loss: 0.072\n"
     ]
    },
    {
     "name": "stderr",
     "output_type": "stream",
     "text": [
      "100%|██████████| 1000/1000 [00:02<00:00, 392.01it/s]\n"
     ]
    },
    {
     "name": "stdout",
     "output_type": "stream",
     "text": [
      "[7,   950] loss: 0.071\n",
      "[7,   960] loss: 0.070\n",
      "[7,   970] loss: 0.071\n",
      "[7,   980] loss: 0.067\n",
      "[7,   990] loss: 0.077\n",
      "[7,  1000] loss: 0.069\n",
      "Epoch 7 | Train Loss: 35.4611\n"
     ]
    },
    {
     "name": "stderr",
     "output_type": "stream",
     "text": [
      "100%|██████████| 400/400 [00:00<00:00, 1422.77it/s]\n",
      " 88%|████████▊ | 7/8 [00:19<00:02,  2.74s/it]"
     ]
    },
    {
     "name": "stdout",
     "output_type": "stream",
     "text": [
      "Epoch 7 | Eval Loss: 0.7002\n"
     ]
    },
    {
     "name": "stderr",
     "output_type": "stream",
     "text": []
    },
    {
     "name": "stdout",
     "output_type": "stream",
     "text": [
      "[8,    10] loss: 0.060\n",
      "[8,    20] loss: 0.103\n",
      "[8,    30] loss: 0.074\n",
      "[8,    40] loss: 0.070\n",
      "[8,    50] loss: 0.069\n",
      "[8,    60] loss: 0.063\n",
      "[8,    70] loss: 0.085\n",
      "[8,    80] loss: 0.071\n"
     ]
    },
    {
     "name": "stderr",
     "output_type": "stream",
     "text": []
    },
    {
     "name": "stdout",
     "output_type": "stream",
     "text": [
      "[8,    90] loss: 0.067\n"
     ]
    },
    {
     "name": "stderr",
     "output_type": "stream",
     "text": []
    },
    {
     "name": "stdout",
     "output_type": "stream",
     "text": [
      "[8,   100] loss: 0.072\n",
      "[8,   110] loss: 0.071\n",
      "[8,   120] loss: 0.070\n",
      "[8,   130] loss: 0.068\n",
      "[8,   140] loss: 0.071\n",
      "[8,   150] loss: 0.074\n",
      "[8,   160] loss: 0.070\n",
      "[8,   170] loss: 0.066\n",
      "[8,   180] loss: 0.073\n"
     ]
    },
    {
     "name": "stderr",
     "output_type": "stream",
     "text": []
    },
    {
     "name": "stdout",
     "output_type": "stream",
     "text": [
      "[8,   190] loss: 0.080\n",
      "[8,   200] loss: 0.073\n",
      "[8,   210] loss: 0.068\n",
      "[8,   220] loss: 0.072\n",
      "[8,   230] loss: 0.071\n"
     ]
    },
    {
     "name": "stderr",
     "output_type": "stream",
     "text": []
    },
    {
     "name": "stdout",
     "output_type": "stream",
     "text": [
      "[8,   240] loss: 0.071\n",
      "[8,   250] loss: 0.070\n",
      "[8,   260] loss: 0.070\n",
      "[8,   270] loss: 0.070\n"
     ]
    },
    {
     "name": "stderr",
     "output_type": "stream",
     "text": []
    },
    {
     "name": "stdout",
     "output_type": "stream",
     "text": [
      "[8,   280] loss: 0.068\n",
      "[8,   290] loss: 0.069\n",
      "[8,   300] loss: 0.078\n",
      "[8,   310] loss: 0.065\n",
      "[8,   320] loss: 0.064\n",
      "[8,   330] loss: 0.067\n"
     ]
    },
    {
     "name": "stderr",
     "output_type": "stream",
     "text": []
    },
    {
     "name": "stdout",
     "output_type": "stream",
     "text": [
      "[8,   340] loss: 0.079\n",
      "[8,   350] loss: 0.065\n",
      "[8,   360] loss: 0.071\n",
      "[8,   370] loss: 0.068\n"
     ]
    },
    {
     "name": "stderr",
     "output_type": "stream",
     "text": []
    },
    {
     "name": "stdout",
     "output_type": "stream",
     "text": [
      "[8,   380] loss: 0.072\n",
      "[8,   390] loss: 0.067\n",
      "[8,   400] loss: 0.071\n",
      "[8,   410] loss: 0.071\n",
      "[8,   420] loss: 0.072\n"
     ]
    },
    {
     "name": "stderr",
     "output_type": "stream",
     "text": []
    },
    {
     "name": "stdout",
     "output_type": "stream",
     "text": [
      "[8,   430] loss: 0.070\n",
      "[8,   440] loss: 0.068\n",
      "[8,   450] loss: 0.072\n",
      "[8,   460] loss: 0.070\n"
     ]
    },
    {
     "name": "stderr",
     "output_type": "stream",
     "text": []
    },
    {
     "name": "stdout",
     "output_type": "stream",
     "text": [
      "[8,   470] loss: 0.070\n",
      "[8,   480] loss: 0.071\n",
      "[8,   490] loss: 0.072\n",
      "[8,   500] loss: 0.070\n",
      "[8,   510] loss: 0.069\n"
     ]
    },
    {
     "name": "stderr",
     "output_type": "stream",
     "text": []
    },
    {
     "name": "stdout",
     "output_type": "stream",
     "text": [
      "[8,   520] loss: 0.071\n",
      "[8,   530] loss: 0.075\n",
      "[8,   540] loss: 0.067\n",
      "[8,   550] loss: 0.049\n"
     ]
    },
    {
     "name": "stderr",
     "output_type": "stream",
     "text": []
    },
    {
     "name": "stdout",
     "output_type": "stream",
     "text": [
      "[8,   560] loss: 0.102\n",
      "[8,   570] loss: 0.069\n",
      "[8,   580] loss: 0.063\n",
      "[8,   590] loss: 0.070\n",
      "[8,   600] loss: 0.075\n"
     ]
    },
    {
     "name": "stderr",
     "output_type": "stream",
     "text": []
    },
    {
     "name": "stdout",
     "output_type": "stream",
     "text": [
      "[8,   610] loss: 0.068\n",
      "[8,   620] loss: 0.068\n",
      "[8,   630] loss: 0.066\n",
      "[8,   640] loss: 0.073\n"
     ]
    },
    {
     "name": "stderr",
     "output_type": "stream",
     "text": []
    },
    {
     "name": "stdout",
     "output_type": "stream",
     "text": [
      "[8,   650] loss: 0.074\n",
      "[8,   660] loss: 0.068\n",
      "[8,   670] loss: 0.069\n",
      "[8,   680] loss: 0.070\n",
      "[8,   690] loss: 0.072\n"
     ]
    },
    {
     "name": "stderr",
     "output_type": "stream",
     "text": []
    },
    {
     "name": "stdout",
     "output_type": "stream",
     "text": [
      "[8,   700] loss: 0.064\n",
      "[8,   710] loss: 0.060\n",
      "[8,   720] loss: 0.068\n",
      "[8,   730] loss: 0.075\n"
     ]
    },
    {
     "name": "stderr",
     "output_type": "stream",
     "text": []
    },
    {
     "name": "stdout",
     "output_type": "stream",
     "text": [
      "[8,   740] loss: 0.079\n",
      "[8,   750] loss: 0.067\n",
      "[8,   760] loss: 0.069\n",
      "[8,   770] loss: 0.063\n",
      "[8,   780] loss: 0.072\n"
     ]
    },
    {
     "name": "stderr",
     "output_type": "stream",
     "text": []
    },
    {
     "name": "stdout",
     "output_type": "stream",
     "text": [
      "[8,   790] loss: 0.063\n",
      "[8,   800] loss: 0.068\n"
     ]
    },
    {
     "name": "stderr",
     "output_type": "stream",
     "text": []
    },
    {
     "name": "stdout",
     "output_type": "stream",
     "text": [
      "[8,   810] loss: 0.068\n",
      "[8,   820] loss: 0.076\n",
      "[8,   830] loss: 0.070\n",
      "[8,   840] loss: 0.072\n"
     ]
    },
    {
     "name": "stderr",
     "output_type": "stream",
     "text": []
    },
    {
     "name": "stdout",
     "output_type": "stream",
     "text": [
      "[8,   850] loss: 0.068\n",
      "[8,   860] loss: 0.073\n",
      "[8,   870] loss: 0.069\n",
      "[8,   880] loss: 0.070\n",
      "[8,   890] loss: 0.068\n"
     ]
    },
    {
     "name": "stderr",
     "output_type": "stream",
     "text": []
    },
    {
     "name": "stdout",
     "output_type": "stream",
     "text": [
      "[8,   900] loss: 0.065\n",
      "[8,   910] loss: 0.077\n",
      "[8,   920] loss: 0.070\n",
      "[8,   930] loss: 0.068\n",
      "[8,   940] loss: 0.071\n"
     ]
    },
    {
     "name": "stderr",
     "output_type": "stream",
     "text": []
    },
    {
     "name": "stdout",
     "output_type": "stream",
     "text": [
      "[8,   950] loss: 0.068\n",
      "[8,   960] loss: 0.060\n",
      "[8,   970] loss: 0.062\n",
      "[8,   980] loss: 0.047\n"
     ]
    },
    {
     "name": "stderr",
     "output_type": "stream",
     "text": [
      "100%|██████████| 1000/1000 [00:02<00:00, 408.30it/s]\n"
     ]
    },
    {
     "name": "stdout",
     "output_type": "stream",
     "text": [
      "[8,   990] loss: 0.071\n",
      "[8,  1000] loss: 0.052\n",
      "Epoch 8 | Train Loss: 34.9304\n"
     ]
    },
    {
     "name": "stderr",
     "output_type": "stream",
     "text": [
      "100%|██████████| 400/400 [00:00<00:00, 1596.01it/s]\n",
      "                                             "
     ]
    },
    {
     "name": "stdout",
     "output_type": "stream",
     "text": [
      "Epoch 8 | Eval Loss: 0.8282\n"
     ]
    },
    {
     "name": "stderr",
     "output_type": "stream",
     "text": [
      "\r"
     ]
    },
    {
     "data": {
      "text/plain": [
       "0.6986083506941795"
      ]
     },
     "execution_count": 163,
     "metadata": {},
     "output_type": "execute_result"
    }
   ],
   "source": [
    "# Example usage:\n",
    "model = Transformer(embed_dim=embedding_dim, a=0, max_seq_length=L, num_spins=3, proj_layer_dim=128, dropout=dropout_rate)\n",
    "optimizer = optim.Adam(model.parameters(), lr=lr)\n",
    "criterion = nn.CrossEntropyLoss()\n",
    "\n",
    "train(model, data_train, data_train_dec, data_test, data_test_dec, vocab, optimizer, criterion, device=device)\n",
    "#torch.save(model.state_dict(), 'models/lstm_scratch.pt')\n",
    "#evaluate(model, test_dataloader, criterion, device=device)"
   ]
  },
  {
   "cell_type": "code",
   "execution_count": 91,
   "metadata": {},
   "outputs": [
    {
     "name": "stdout",
     "output_type": "stream",
     "text": [
      "torch.Size([2, 4])\n",
      "torch.Size([2, 4, 3])\n"
     ]
    }
   ],
   "source": [
    "# an Embedding module containing 10 tensors of size 3\n",
    "embedding = nn.Embedding(10, 3)\n",
    "# a batch of 2 samples of 4 indices each\n",
    "input = torch.LongTensor([[1, 2, 4, 5], [4, 3, 2, 9]])\n",
    "print(input.shape)\n",
    "print(embedding(input).shape)\n"
   ]
  },
  {
   "cell_type": "code",
   "execution_count": null,
   "metadata": {},
   "outputs": [],
   "source": []
  }
 ],
 "metadata": {
  "kernelspec": {
   "display_name": "protein_interactions",
   "language": "python",
   "name": "python3"
  },
  "language_info": {
   "codemirror_mode": {
    "name": "ipython",
    "version": 3
   },
   "file_extension": ".py",
   "mimetype": "text/x-python",
   "name": "python",
   "nbconvert_exporter": "python",
   "pygments_lexer": "ipython3",
   "version": "3.12.2"
  }
 },
 "nbformat": 4,
 "nbformat_minor": 2
}
